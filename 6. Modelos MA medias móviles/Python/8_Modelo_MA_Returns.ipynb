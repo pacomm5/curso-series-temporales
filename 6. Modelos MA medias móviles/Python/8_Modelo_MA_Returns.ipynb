{
  "nbformat": 4,
  "nbformat_minor": 0,
  "metadata": {
    "kernelspec": {
      "display_name": "Python 3",
      "language": "python",
      "name": "python3"
    },
    "language_info": {
      "codemirror_mode": {
        "name": "ipython",
        "version": 3
      },
      "file_extension": ".py",
      "mimetype": "text/x-python",
      "name": "python",
      "nbconvert_exporter": "python",
      "pygments_lexer": "ipython3",
      "version": "3.6.7"
    },
    "colab": {
      "name": "8_Modelo_MA_Returns.ipynb",
      "provenance": [],
      "collapsed_sections": [],
      "include_colab_link": true
    }
  },
  "cells": [
    {
      "cell_type": "markdown",
      "metadata": {
        "id": "view-in-github",
        "colab_type": "text"
      },
      "source": [
        "<a href=\"https://colab.research.google.com/github/pacomm5/curso-series-temporales/blob/master/6.%20Modelos%20MA%20medias%20m%C3%B3viles/Python/8_Modelo_MA_Returns.ipynb\" target=\"_parent\"><img src=\"https://colab.research.google.com/assets/colab-badge.svg\" alt=\"Open In Colab\"/></a>"
      ]
    },
    {
      "cell_type": "markdown",
      "metadata": {
        "id": "iEHCeHHTSt7R"
      },
      "source": [
        "## Importing the relevant packages"
      ]
    },
    {
      "cell_type": "code",
      "metadata": {
        "id": "eo6zUSLLSt7S",
        "outputId": "ef441ba6-9a64-454f-d9f5-f6e30cf64885",
        "colab": {
          "base_uri": "https://localhost:8080/",
          "height": 52
        }
      },
      "source": [
        "import pandas as pd\n",
        "import numpy as np\n",
        "import matplotlib.pyplot as plt\n",
        "import statsmodels.graphics.tsaplots as sgt\n",
        "import statsmodels.tsa.stattools as sts\n",
        "from statsmodels.tsa.arima_model import ARMA\n",
        "from scipy.stats.distributions import chi2 \n",
        "from math import sqrt\n",
        "import seaborn as sns\n",
        "sns.set()"
      ],
      "execution_count": null,
      "outputs": [
        {
          "output_type": "stream",
          "text": [
            "/usr/local/lib/python3.6/dist-packages/statsmodels/tools/_testing.py:19: FutureWarning: pandas.util.testing is deprecated. Use the functions in the public API at pandas.testing instead.\n",
            "  import pandas.util.testing as tm\n"
          ],
          "name": "stderr"
        }
      ]
    },
    {
      "cell_type": "markdown",
      "metadata": {
        "id": "qZ7N5lciSt7W"
      },
      "source": [
        "## Importing the Data and Pre-processing "
      ]
    },
    {
      "cell_type": "code",
      "metadata": {
        "id": "AzOIIriaSt7W"
      },
      "source": [
        "raw_csv_data = pd.read_csv(\"Index2018.csv\") \n",
        "df_comp=raw_csv_data.copy()\n",
        "df_comp.date = pd.to_datetime(df_comp.date, dayfirst = True)\n",
        "df_comp.set_index(\"date\", inplace=True)\n",
        "df_comp=df_comp.asfreq('b')\n",
        "df_comp=df_comp.fillna(method='ffill')"
      ],
      "execution_count": null,
      "outputs": []
    },
    {
      "cell_type": "code",
      "metadata": {
        "id": "W2apOQcuSt7Z"
      },
      "source": [
        "df_comp['market_value']=df_comp.ftse"
      ],
      "execution_count": null,
      "outputs": []
    },
    {
      "cell_type": "code",
      "metadata": {
        "id": "UyFcYXJQSt7b"
      },
      "source": [
        "del df_comp['spx']\n",
        "del df_comp['dax']\n",
        "del df_comp['ftse']\n",
        "del df_comp['nikkei']\n",
        "size = int(len(df_comp)*0.8)\n",
        "df, df_test = df_comp.iloc[:size], df_comp.iloc[size:]"
      ],
      "execution_count": null,
      "outputs": []
    },
    {
      "cell_type": "markdown",
      "metadata": {
        "id": "WkzVFMmXSt7f"
      },
      "source": [
        "## The LLR Test"
      ]
    },
    {
      "cell_type": "code",
      "metadata": {
        "id": "1NHkSqGpSt7f"
      },
      "source": [
        "def LLR_test(mod_1, mod_2, DF = 1):\n",
        "    L1 = mod_1.llf\n",
        "    L2 = mod_2.llf\n",
        "    LR = (2*(L2-L1))    \n",
        "    p = chi2.sf(LR, DF).round(3)\n",
        "    return p"
      ],
      "execution_count": null,
      "outputs": []
    },
    {
      "cell_type": "code",
      "metadata": {
        "id": "c5YZ7V7aSt7i"
      },
      "source": [
        "import warnings\n",
        "warnings.filterwarnings(\"ignore\")"
      ],
      "execution_count": null,
      "outputs": []
    },
    {
      "cell_type": "markdown",
      "metadata": {
        "id": "cyuKKVr2St7k"
      },
      "source": [
        "## Creating Returns"
      ]
    },
    {
      "cell_type": "code",
      "metadata": {
        "scrolled": true,
        "id": "AWgKW0RYSt7l"
      },
      "source": [
        "df['returns'] = df.market_value.pct_change(1)*100"
      ],
      "execution_count": null,
      "outputs": []
    },
    {
      "cell_type": "code",
      "metadata": {
        "id": "77Eh37DMs-xk",
        "colab": {
          "base_uri": "https://localhost:8080/",
          "height": 223
        },
        "outputId": "ed832a49-2c2a-49ab-dee6-58fdaa4a9d9e"
      },
      "source": [
        "df.head()"
      ],
      "execution_count": null,
      "outputs": [
        {
          "output_type": "execute_result",
          "data": {
            "text/html": [
              "<div>\n",
              "<style scoped>\n",
              "    .dataframe tbody tr th:only-of-type {\n",
              "        vertical-align: middle;\n",
              "    }\n",
              "\n",
              "    .dataframe tbody tr th {\n",
              "        vertical-align: top;\n",
              "    }\n",
              "\n",
              "    .dataframe thead th {\n",
              "        text-align: right;\n",
              "    }\n",
              "</style>\n",
              "<table border=\"1\" class=\"dataframe\">\n",
              "  <thead>\n",
              "    <tr style=\"text-align: right;\">\n",
              "      <th></th>\n",
              "      <th>market_value</th>\n",
              "      <th>returns</th>\n",
              "    </tr>\n",
              "    <tr>\n",
              "      <th>date</th>\n",
              "      <th></th>\n",
              "      <th></th>\n",
              "    </tr>\n",
              "  </thead>\n",
              "  <tbody>\n",
              "    <tr>\n",
              "      <th>1994-01-07</th>\n",
              "      <td>3445.98</td>\n",
              "      <td>NaN</td>\n",
              "    </tr>\n",
              "    <tr>\n",
              "      <th>1994-01-10</th>\n",
              "      <td>3440.58</td>\n",
              "      <td>-0.156704</td>\n",
              "    </tr>\n",
              "    <tr>\n",
              "      <th>1994-01-11</th>\n",
              "      <td>3413.77</td>\n",
              "      <td>-0.779229</td>\n",
              "    </tr>\n",
              "    <tr>\n",
              "      <th>1994-01-12</th>\n",
              "      <td>3372.02</td>\n",
              "      <td>-1.222988</td>\n",
              "    </tr>\n",
              "    <tr>\n",
              "      <th>1994-01-13</th>\n",
              "      <td>3360.01</td>\n",
              "      <td>-0.356166</td>\n",
              "    </tr>\n",
              "  </tbody>\n",
              "</table>\n",
              "</div>"
            ],
            "text/plain": [
              "            market_value   returns\n",
              "date                              \n",
              "1994-01-07       3445.98       NaN\n",
              "1994-01-10       3440.58 -0.156704\n",
              "1994-01-11       3413.77 -0.779229\n",
              "1994-01-12       3372.02 -1.222988\n",
              "1994-01-13       3360.01 -0.356166"
            ]
          },
          "metadata": {
            "tags": []
          },
          "execution_count": 9
        }
      ]
    },
    {
      "cell_type": "markdown",
      "metadata": {
        "id": "-Pbne8uySt7n"
      },
      "source": [
        "## ACF for Returns"
      ]
    },
    {
      "cell_type": "code",
      "metadata": {
        "id": "MkSpRTFoSt7o",
        "outputId": "76507b63-7de7-48d0-b64c-57afc34fee0a",
        "colab": {
          "base_uri": "https://localhost:8080/",
          "height": 293
        }
      },
      "source": [
        "sgt.plot_acf(df.returns[1:], zero = False, lags = 40)\n",
        "plt.title(\"ACF for Returns\", size=24)\n",
        "plt.show()"
      ],
      "execution_count": null,
      "outputs": [
        {
          "output_type": "display_data",
          "data": {
            "image/png": "[encoded data removed]",
            "text/plain": [
              "<Figure size 432x288 with 1 Axes>"
            ]
          },
          "metadata": {
            "tags": [],
            "needs_background": "light"
          }
        }
      ]
    },
    {
      "cell_type": "code",
      "metadata": {
        "id": "1RwVODEM12zE",
        "colab": {
          "base_uri": "https://localhost:8080/",
          "height": 293
        },
        "outputId": "90432a54-6575-489e-c39f-92448f4c0d30"
      },
      "source": [
        "sgt.plot_pacf(df.returns[1:], lags = 40, zero = False, method = ('ols'))\n",
        "plt.title(\"PACF FTSE Returns\", size=24)\n",
        "plt.show()"
      ],
      "execution_count": null,
      "outputs": [
        {
          "output_type": "display_data",
          "data": {
            "image/png": "[encoded data removed]",
            "text/plain": [
              "<Figure size 432x288 with 1 Axes>"
            ]
          },
          "metadata": {
            "tags": [],
            "needs_background": "light"
          }
        }
      ]
    },
    {
      "cell_type": "markdown",
      "metadata": {
        "id": "qsVkAF1nSt7q"
      },
      "source": [
        "## MA(1) for Returns"
      ]
    },
    {
      "cell_type": "code",
      "metadata": {
        "id": "6cHMElhNSt7r",
        "outputId": "c65ab368-a9cb-4407-e222-d233197f142d",
        "colab": {
          "base_uri": "https://localhost:8080/",
          "height": 301
        }
      },
      "source": [
        "model_ret_ma_1 = ARMA(df.returns[1:], order=(0,1))\n",
        "results_ret_ma_1 = model_ret_ma_1.fit()\n",
        "results_ret_ma_1.summary()"
      ],
      "execution_count": null,
      "outputs": [
        {
          "output_type": "execute_result",
          "data": {
            "text/html": [
              "<table class=\"simpletable\">\n",
              "<caption>ARMA Model Results</caption>\n",
              "<tr>\n",
              "  <th>Dep. Variable:</th>      <td>returns</td>     <th>  No. Observations:  </th>   <td>5020</td>   \n",
              "</tr>\n",
              "<tr>\n",
              "  <th>Model:</th>            <td>ARMA(0, 1)</td>    <th>  Log Likelihood     </th> <td>-7929.595</td>\n",
              "</tr>\n",
              "<tr>\n",
              "  <th>Method:</th>             <td>css-mle</td>     <th>  S.D. of innovations</th>   <td>1.174</td>  \n",
              "</tr>\n",
              "<tr>\n",
              "  <th>Date:</th>          <td>Tue, 21 Apr 2020</td> <th>  AIC                </th> <td>15865.190</td>\n",
              "</tr>\n",
              "<tr>\n",
              "  <th>Time:</th>              <td>07:53:47</td>     <th>  BIC                </th> <td>15884.754</td>\n",
              "</tr>\n",
              "<tr>\n",
              "  <th>Sample:</th>           <td>01-10-1994</td>    <th>  HQIC               </th> <td>15872.045</td>\n",
              "</tr>\n",
              "<tr>\n",
              "  <th></th>                 <td>- 04-05-2013</td>   <th>                     </th>     <td> </td>    \n",
              "</tr>\n",
              "</table>\n",
              "<table class=\"simpletable\">\n",
              "<tr>\n",
              "        <td></td>           <th>coef</th>     <th>std err</th>      <th>z</th>      <th>P>|z|</th>  <th>[0.025</th>    <th>0.975]</th>  \n",
              "</tr>\n",
              "<tr>\n",
              "  <th>const</th>         <td>    0.0188</td> <td>    0.016</td> <td>    1.162</td> <td> 0.245</td> <td>   -0.013</td> <td>    0.050</td>\n",
              "</tr>\n",
              "<tr>\n",
              "  <th>ma.L1.returns</th> <td>   -0.0257</td> <td>    0.015</td> <td>   -1.720</td> <td> 0.086</td> <td>   -0.055</td> <td>    0.004</td>\n",
              "</tr>\n",
              "</table>\n",
              "<table class=\"simpletable\">\n",
              "<caption>Roots</caption>\n",
              "<tr>\n",
              "    <td></td>   <th>            Real</th>  <th>         Imaginary</th> <th>         Modulus</th>  <th>        Frequency</th>\n",
              "</tr>\n",
              "<tr>\n",
              "  <th>MA.1</th> <td>          38.8549</td> <td>          +0.0000j</td> <td>          38.8549</td> <td>           0.0000</td>\n",
              "</tr>\n",
              "</table>"
            ],
            "text/plain": [
              "<class 'statsmodels.iolib.summary.Summary'>\n",
              "\"\"\"\n",
              "                              ARMA Model Results                              \n",
              "==============================================================================\n",
              "Dep. Variable:                returns   No. Observations:                 5020\n",
              "Model:                     ARMA(0, 1)   Log Likelihood               -7929.595\n",
              "Method:                       css-mle   S.D. of innovations              1.174\n",
              "Date:                Tue, 21 Apr 2020   AIC                          15865.190\n",
              "Time:                        07:53:47   BIC                          15884.754\n",
              "Sample:                    01-10-1994   HQIC                         15872.045\n",
              "                         - 04-05-2013                                         \n",
              "=================================================================================\n",
              "                    coef    std err          z      P>|z|      [0.025      0.975]\n",
              "---------------------------------------------------------------------------------\n",
              "const             0.0188      0.016      1.162      0.245      -0.013       0.050\n",
              "ma.L1.returns    -0.0257      0.015     -1.720      0.086      -0.055       0.004\n",
              "                                    Roots                                    \n",
              "=============================================================================\n",
              "                  Real          Imaginary           Modulus         Frequency\n",
              "-----------------------------------------------------------------------------\n",
              "MA.1           38.8549           +0.0000j           38.8549            0.0000\n",
              "-----------------------------------------------------------------------------\n",
              "\"\"\""
            ]
          },
          "metadata": {
            "tags": []
          },
          "execution_count": 12
        }
      ]
    },
    {
      "cell_type": "markdown",
      "metadata": {
        "id": "6BqhEaMeSt7t"
      },
      "source": [
        "## Higher-Lag MA Models for Returns"
      ]
    },
    {
      "cell_type": "code",
      "metadata": {
        "id": "FnVLYmT_St7u",
        "outputId": "6bcf9317-c43f-47d9-d7c6-1827b72e98fb",
        "colab": {
          "base_uri": "https://localhost:8080/",
          "height": 444
        }
      },
      "source": [
        "model_ret_ma_2 = ARMA(df.returns[1:], order=(0,2))\n",
        "results_ret_ma_2 = model_ret_ma_2.fit()\n",
        "print(results_ret_ma_2.summary())\n",
        "print(\"\\nLLR test p-value = \" + str(LLR_test(results_ret_ma_1, results_ret_ma_2)))"
      ],
      "execution_count": null,
      "outputs": [
        {
          "output_type": "stream",
          "text": [
            "                              ARMA Model Results                              \n",
            "==============================================================================\n",
            "Dep. Variable:                returns   No. Observations:                 5020\n",
            "Model:                     ARMA(0, 2)   Log Likelihood               -7922.864\n",
            "Method:                       css-mle   S.D. of innovations              1.173\n",
            "Date:                Tue, 21 Apr 2020   AIC                          15853.728\n",
            "Time:                        08:07:54   BIC                          15879.812\n",
            "Sample:                    01-10-1994   HQIC                         15862.868\n",
            "                         - 04-05-2013                                         \n",
            "=================================================================================\n",
            "                    coef    std err          z      P>|z|      [0.025      0.975]\n",
            "---------------------------------------------------------------------------------\n",
            "const             0.0188      0.015      1.239      0.215      -0.011       0.049\n",
            "ma.L1.returns    -0.0327      0.014     -2.297      0.022      -0.061      -0.005\n",
            "ma.L2.returns    -0.0502      0.014     -3.669      0.000      -0.077      -0.023\n",
            "                                    Roots                                    \n",
            "=============================================================================\n",
            "                  Real          Imaginary           Modulus         Frequency\n",
            "-----------------------------------------------------------------------------\n",
            "MA.1            4.1499           +0.0000j            4.1499            0.0000\n",
            "MA.2           -4.8004           +0.0000j            4.8004            0.5000\n",
            "-----------------------------------------------------------------------------\n",
            "\n",
            "LLR test p-value = 0.0\n"
          ],
          "name": "stdout"
        }
      ]
    },
    {
      "cell_type": "code",
      "metadata": {
        "id": "-gZCMwlJSt7w",
        "outputId": "191ec9d3-676e-4919-95e9-241e29ab2dca",
        "colab": {
          "base_uri": "https://localhost:8080/",
          "height": 479
        }
      },
      "source": [
        "model_ret_ma_3 = ARMA(df.returns[1:], order=(0,3))\n",
        "results_ret_ma_3 = model_ret_ma_3.fit()\n",
        "print(results_ret_ma_3.summary())\n",
        "print(\"\\nLLR test p-value = \" + str(LLR_test(results_ret_ma_2, results_ret_ma_3)))"
      ],
      "execution_count": null,
      "outputs": [
        {
          "output_type": "stream",
          "text": [
            "                              ARMA Model Results                              \n",
            "==============================================================================\n",
            "Dep. Variable:                returns   No. Observations:                 5020\n",
            "Model:                     ARMA(0, 3)   Log Likelihood               -7904.317\n",
            "Method:                       css-mle   S.D. of innovations              1.168\n",
            "Date:                Tue, 21 Apr 2020   AIC                          15818.634\n",
            "Time:                        08:11:27   BIC                          15851.240\n",
            "Sample:                    01-10-1994   HQIC                         15830.060\n",
            "                         - 04-05-2013                                         \n",
            "=================================================================================\n",
            "                    coef    std err          z      P>|z|      [0.025      0.975]\n",
            "---------------------------------------------------------------------------------\n",
            "const             0.0189      0.014      1.376      0.169      -0.008       0.046\n",
            "ma.L1.returns    -0.0203      0.014     -1.423      0.155      -0.048       0.008\n",
            "ma.L2.returns    -0.0556      0.013     -4.134      0.000      -0.082      -0.029\n",
            "ma.L3.returns    -0.0904      0.015     -6.121      0.000      -0.119      -0.061\n",
            "                                    Roots                                    \n",
            "=============================================================================\n",
            "                  Real          Imaginary           Modulus         Frequency\n",
            "-----------------------------------------------------------------------------\n",
            "MA.1            2.0105           -0.0000j            2.0105           -0.0000\n",
            "MA.2           -1.3129           -1.9441j            2.3459           -0.3445\n",
            "MA.3           -1.3129           +1.9441j            2.3459            0.3445\n",
            "-----------------------------------------------------------------------------\n",
            "\n",
            "LLR test p-value = 0.0\n"
          ],
          "name": "stdout"
        }
      ]
    },
    {
      "cell_type": "code",
      "metadata": {
        "id": "vsDD0FEHSt7y",
        "outputId": "b870ce26-7f24-4e85-dc31-9de366364602",
        "colab": {
          "base_uri": "https://localhost:8080/",
          "height": 515
        }
      },
      "source": [
        "model_ret_ma_4 = ARMA(df.returns[1:], order=[0,4])\n",
        "results_ret_ma_4 = model_ret_ma_4.fit()\n",
        "print(results_ret_ma_4.summary())\n",
        "print(\"\\nLLR test p-value = \" + str(LLR_test(results_ret_ma_3, results_ret_ma_4)))"
      ],
      "execution_count": null,
      "outputs": [
        {
          "output_type": "stream",
          "text": [
            "                              ARMA Model Results                              \n",
            "==============================================================================\n",
            "Dep. Variable:                returns   No. Observations:                 5020\n",
            "Model:                     ARMA(0, 4)   Log Likelihood               -7898.773\n",
            "Method:                       css-mle   S.D. of innovations              1.167\n",
            "Date:                Tue, 21 Apr 2020   AIC                          15809.547\n",
            "Time:                        08:13:30   BIC                          15848.674\n",
            "Sample:                    01-10-1994   HQIC                         15823.257\n",
            "                         - 04-05-2013                                         \n",
            "=================================================================================\n",
            "                    coef    std err          z      P>|z|      [0.025      0.975]\n",
            "---------------------------------------------------------------------------------\n",
            "const             0.0189      0.014      1.305      0.192      -0.009       0.047\n",
            "ma.L1.returns    -0.0203      0.014     -1.443      0.149      -0.048       0.007\n",
            "ma.L2.returns    -0.0551      0.014     -3.902      0.000      -0.083      -0.027\n",
            "ma.L3.returns    -0.0922      0.015     -6.306      0.000      -0.121      -0.064\n",
            "ma.L4.returns     0.0454      0.014      3.338      0.001       0.019       0.072\n",
            "                                    Roots                                    \n",
            "=============================================================================\n",
            "                  Real          Imaginary           Modulus         Frequency\n",
            "-----------------------------------------------------------------------------\n",
            "MA.1           -1.2257           -1.4206j            1.8763           -0.3633\n",
            "MA.2           -1.2257           +1.4206j            1.8763            0.3633\n",
            "MA.3            2.2405           -1.1103j            2.5006           -0.0732\n",
            "MA.4            2.2405           +1.1103j            2.5006            0.0732\n",
            "-----------------------------------------------------------------------------\n",
            "\n",
            "LLR test p-value = 0.001\n"
          ],
          "name": "stdout"
        }
      ]
    },
    {
      "cell_type": "code",
      "metadata": {
        "id": "VXqRiHbYSt70",
        "outputId": "51be2e3d-9c81-4eba-bbe8-4998765f4d05",
        "colab": {
          "base_uri": "https://localhost:8080/",
          "height": 550
        }
      },
      "source": [
        "model_ret_ma_5 = ARMA(df.returns[1:], order=[0,5])\n",
        "results_ret_ma_5 = model_ret_ma_5.fit()\n",
        "print(results_ret_ma_5.summary())\n",
        "print(\"\\nLLR test p-value = \" + str(LLR_test(results_ret_ma_4, results_ret_ma_5)))"
      ],
      "execution_count": null,
      "outputs": [
        {
          "output_type": "stream",
          "text": [
            "                              ARMA Model Results                              \n",
            "==============================================================================\n",
            "Dep. Variable:                returns   No. Observations:                 5020\n",
            "Model:                     ARMA(0, 5)   Log Likelihood               -7892.823\n",
            "Method:                       css-mle   S.D. of innovations              1.166\n",
            "Date:                Tue, 21 Apr 2020   AIC                          15799.645\n",
            "Time:                        08:13:40   BIC                          15845.294\n",
            "Sample:                    01-10-1994   HQIC                         15815.641\n",
            "                         - 04-05-2013                                         \n",
            "=================================================================================\n",
            "                    coef    std err          z      P>|z|      [0.025      0.975]\n",
            "---------------------------------------------------------------------------------\n",
            "const             0.0189      0.014      1.376      0.169      -0.008       0.046\n",
            "ma.L1.returns    -0.0262      0.014     -1.851      0.064      -0.054       0.002\n",
            "ma.L2.returns    -0.0497      0.014     -3.518      0.000      -0.077      -0.022\n",
            "ma.L3.returns    -0.0852      0.015     -5.799      0.000      -0.114      -0.056\n",
            "ma.L4.returns     0.0458      0.014      3.374      0.001       0.019       0.072\n",
            "ma.L5.returns    -0.0500      0.014     -3.454      0.001      -0.078      -0.022\n",
            "                                    Roots                                    \n",
            "=============================================================================\n",
            "                  Real          Imaginary           Modulus         Frequency\n",
            "-----------------------------------------------------------------------------\n",
            "MA.1           -1.2127           -1.0805j            1.6242           -0.3842\n",
            "MA.2           -1.2127           +1.0805j            1.6242            0.3842\n",
            "MA.3            1.7305           -0.0000j            1.7305           -0.0000\n",
            "MA.4            0.8062           -1.9326j            2.0940           -0.1871\n",
            "MA.5            0.8062           +1.9326j            2.0940            0.1871\n",
            "-----------------------------------------------------------------------------\n",
            "\n",
            "LLR test p-value = 0.001\n"
          ],
          "name": "stdout"
        }
      ]
    },
    {
      "cell_type": "code",
      "metadata": {
        "id": "rWk7e3XiSt73",
        "outputId": "1ce7ec4f-e765-4d5c-efb7-e8bd6860e058",
        "colab": {
          "base_uri": "https://localhost:8080/",
          "height": 586
        }
      },
      "source": [
        "model_ret_ma_6 = ARMA(df.returns[1:], order=[0,6])\n",
        "results_ret_ma_6 = model_ret_ma_6.fit()\n",
        "print(results_ret_ma_6.summary())\n",
        "print(\"\\nLLR test p-value = \" + str(LLR_test(results_ret_ma_5, results_ret_ma_6)))"
      ],
      "execution_count": null,
      "outputs": [
        {
          "output_type": "stream",
          "text": [
            "                              ARMA Model Results                              \n",
            "==============================================================================\n",
            "Dep. Variable:                returns   No. Observations:                 5020\n",
            "Model:                     ARMA(0, 6)   Log Likelihood               -7889.221\n",
            "Method:                       css-mle   S.D. of innovations              1.165\n",
            "Date:                Tue, 21 Apr 2020   AIC                          15794.442\n",
            "Time:                        08:13:49   BIC                          15846.612\n",
            "Sample:                    01-10-1994   HQIC                         15812.723\n",
            "                         - 04-05-2013                                         \n",
            "=================================================================================\n",
            "                    coef    std err          z      P>|z|      [0.025      0.975]\n",
            "---------------------------------------------------------------------------------\n",
            "const             0.0189      0.013      1.430      0.153      -0.007       0.045\n",
            "ma.L1.returns    -0.0237      0.014     -1.682      0.093      -0.051       0.004\n",
            "ma.L2.returns    -0.0486      0.014     -3.436      0.001      -0.076      -0.021\n",
            "ma.L3.returns    -0.0827      0.014     -5.846      0.000      -0.110      -0.055\n",
            "ma.L4.returns     0.0466      0.014      3.434      0.001       0.020       0.073\n",
            "ma.L5.returns    -0.0484      0.014     -3.371      0.001      -0.077      -0.020\n",
            "ma.L6.returns    -0.0387      0.014     -2.682      0.007      -0.067      -0.010\n",
            "                                    Roots                                    \n",
            "=============================================================================\n",
            "                  Real          Imaginary           Modulus         Frequency\n",
            "-----------------------------------------------------------------------------\n",
            "MA.1            1.5011           -0.0000j            1.5011           -0.0000\n",
            "MA.2            0.8248           -1.4775j            1.6921           -0.1690\n",
            "MA.3            0.8248           +1.4775j            1.6921            0.1690\n",
            "MA.4           -1.0066           -1.2260j            1.5863           -0.3594\n",
            "MA.5           -1.0066           +1.2260j            1.5863            0.3594\n",
            "MA.6           -2.3891           -0.0000j            2.3891           -0.5000\n",
            "-----------------------------------------------------------------------------\n",
            "\n",
            "LLR test p-value = 0.007\n"
          ],
          "name": "stdout"
        }
      ]
    },
    {
      "cell_type": "code",
      "metadata": {
        "id": "37Dxuw7ISt75",
        "outputId": "36cce260-89b6-4d30-fdb0-a35f43ee07f7",
        "colab": {
          "base_uri": "https://localhost:8080/",
          "height": 621
        }
      },
      "source": [
        "model_ret_ma_7 = ARMA(df.returns[1:], order=[0,7])\n",
        "results_ret_ma_7 = model_ret_ma_7.fit()\n",
        "print(results_ret_ma_7.summary())\n",
        "print(\"\\nLLR test p-value = \" + str(LLR_test(results_ret_ma_6, results_ret_ma_7)))"
      ],
      "execution_count": null,
      "outputs": [
        {
          "output_type": "stream",
          "text": [
            "                              ARMA Model Results                              \n",
            "==============================================================================\n",
            "Dep. Variable:                returns   No. Observations:                 5020\n",
            "Model:                     ARMA(0, 7)   Log Likelihood               -7889.046\n",
            "Method:                       css-mle   S.D. of innovations              1.165\n",
            "Date:                Tue, 21 Apr 2020   AIC                          15796.091\n",
            "Time:                        08:13:57   BIC                          15854.782\n",
            "Sample:                    01-10-1994   HQIC                         15816.657\n",
            "                         - 04-05-2013                                         \n",
            "=================================================================================\n",
            "                    coef    std err          z      P>|z|      [0.025      0.975]\n",
            "---------------------------------------------------------------------------------\n",
            "const             0.0189      0.013      1.418      0.156      -0.007       0.045\n",
            "ma.L1.returns    -0.0247      0.014     -1.739      0.082      -0.052       0.003\n",
            "ma.L2.returns    -0.0488      0.014     -3.454      0.001      -0.077      -0.021\n",
            "ma.L3.returns    -0.0821      0.014     -5.789      0.000      -0.110      -0.054\n",
            "ma.L4.returns     0.0458      0.014      3.360      0.001       0.019       0.073\n",
            "ma.L5.returns    -0.0486      0.014     -3.381      0.001      -0.077      -0.020\n",
            "ma.L6.returns    -0.0390      0.014     -2.702      0.007      -0.067      -0.011\n",
            "ma.L7.returns     0.0085      0.014      0.592      0.554      -0.020       0.037\n",
            "                                    Roots                                    \n",
            "=============================================================================\n",
            "                  Real          Imaginary           Modulus         Frequency\n",
            "-----------------------------------------------------------------------------\n",
            "MA.1           -0.9690           -1.1814j            1.5279           -0.3593\n",
            "MA.2           -0.9690           +1.1814j            1.5279            0.3593\n",
            "MA.3           -2.0397           -0.0000j            2.0397           -0.5000\n",
            "MA.4            0.7516           -1.5246j            1.6998           -0.1771\n",
            "MA.5            0.7516           +1.5246j            1.6998            0.1771\n",
            "MA.6            1.5538           -0.0000j            1.5538           -0.0000\n",
            "MA.7            5.5175           -0.0000j            5.5175           -0.0000\n",
            "-----------------------------------------------------------------------------\n",
            "\n",
            "LLR test p-value = 0.554\n"
          ],
          "name": "stdout"
        }
      ]
    },
    {
      "cell_type": "code",
      "metadata": {
        "id": "uBq-2wSUSt77",
        "outputId": "083df057-e769-4338-8e24-6e6b596e2682",
        "colab": {
          "base_uri": "https://localhost:8080/",
          "height": 657
        }
      },
      "source": [
        "model_ret_ma_8 = ARMA(df.returns[1:], order=[0,8])\n",
        "results_ret_ma_8 = model_ret_ma_8.fit()\n",
        "print(results_ret_ma_8.summary())\n",
        "print(\"\\nLLR test p-value = \" + str(LLR_test(results_ret_ma_7, results_ret_ma_8)))"
      ],
      "execution_count": null,
      "outputs": [
        {
          "output_type": "stream",
          "text": [
            "                              ARMA Model Results                              \n",
            "==============================================================================\n",
            "Dep. Variable:                returns   No. Observations:                 5020\n",
            "Model:                     ARMA(0, 8)   Log Likelihood               -7885.603\n",
            "Method:                       css-mle   S.D. of innovations              1.164\n",
            "Date:                Tue, 21 Apr 2020   AIC                          15791.205\n",
            "Time:                        08:15:57   BIC                          15856.417\n",
            "Sample:                    01-10-1994   HQIC                         15814.056\n",
            "                         - 04-05-2013                                         \n",
            "=================================================================================\n",
            "                    coef    std err          z      P>|z|      [0.025      0.975]\n",
            "---------------------------------------------------------------------------------\n",
            "const             0.0189      0.014      1.364      0.173      -0.008       0.046\n",
            "ma.L1.returns    -0.0238      0.014     -1.688      0.091      -0.051       0.004\n",
            "ma.L2.returns    -0.0495      0.014     -3.514      0.000      -0.077      -0.022\n",
            "ma.L3.returns    -0.0847      0.014     -5.993      0.000      -0.112      -0.057\n",
            "ma.L4.returns     0.0488      0.014      3.440      0.001       0.021       0.077\n",
            "ma.L5.returns    -0.0518      0.014     -3.634      0.000      -0.080      -0.024\n",
            "ma.L6.returns    -0.0402      0.014     -2.787      0.005      -0.068      -0.012\n",
            "ma.L7.returns     0.0084      0.014      0.587      0.557      -0.020       0.036\n",
            "ma.L8.returns     0.0366      0.014      2.626      0.009       0.009       0.064\n",
            "                                    Roots                                    \n",
            "=============================================================================\n",
            "                  Real          Imaginary           Modulus         Frequency\n",
            "-----------------------------------------------------------------------------\n",
            "MA.1            1.4716           -0.4282j            1.5326           -0.0451\n",
            "MA.2            1.4716           +0.4282j            1.5326            0.0451\n",
            "MA.3            0.5944           -1.3169j            1.4448           -0.1825\n",
            "MA.4            0.5944           +1.3169j            1.4448            0.1825\n",
            "MA.5           -0.7318           -1.2736j            1.4689           -0.3330\n",
            "MA.6           -0.7318           +1.2736j            1.4689            0.3330\n",
            "MA.7           -1.4485           -0.6983j            1.6081           -0.4285\n",
            "MA.8           -1.4485           +0.6983j            1.6081            0.4285\n",
            "-----------------------------------------------------------------------------\n",
            "\n",
            "LLR test p-value = 0.009\n"
          ],
          "name": "stdout"
        }
      ]
    },
    {
      "cell_type": "code",
      "metadata": {
        "id": "vNfRclIgSt7-",
        "outputId": "fc8c498f-57fd-4a9b-91b9-bac5a4347d83",
        "colab": {
          "base_uri": "https://localhost:8080/",
          "height": 35
        }
      },
      "source": [
        "LLR_test(results_ret_ma_6, results_ret_ma_8, DF = 2)"
      ],
      "execution_count": null,
      "outputs": [
        {
          "output_type": "execute_result",
          "data": {
            "text/plain": [
              "0.027"
            ]
          },
          "metadata": {
            "tags": []
          },
          "execution_count": 20
        }
      ]
    },
    {
      "cell_type": "markdown",
      "metadata": {
        "id": "uGXwagw-St8A"
      },
      "source": [
        "## Residuals for Returns"
      ]
    },
    {
      "cell_type": "code",
      "metadata": {
        "id": "wjxd2Sl4St8A"
      },
      "source": [
        "df['res_ret_ma_8'] = results_ret_ma_8.resid[1:]"
      ],
      "execution_count": null,
      "outputs": []
    },
    {
      "cell_type": "code",
      "metadata": {
        "id": "3t1gJ-YMSt8C",
        "outputId": "af7be362-70ee-4365-b81a-db6587ae522f",
        "colab": {
          "base_uri": "https://localhost:8080/",
          "height": 52
        }
      },
      "source": [
        "print(\"The mean of the residuals is \" + str(round(df.res_ret_ma_8.mean(),3)) + \"\\nThe variance of the residuals is \" + str(round(df.res_ret_ma_8.var(),3)))"
      ],
      "execution_count": null,
      "outputs": [
        {
          "output_type": "stream",
          "text": [
            "The mean of the residuals is -0.0\n",
            "The variance of the residuals is 1.356\n"
          ],
          "name": "stdout"
        }
      ]
    },
    {
      "cell_type": "code",
      "metadata": {
        "scrolled": true,
        "id": "v9t_vMvaSt8E",
        "outputId": "db8f27ee-dcce-455e-bce0-5f875032d067",
        "colab": {
          "base_uri": "https://localhost:8080/",
          "height": 35
        }
      },
      "source": [
        "round(sqrt(df.res_ret_ma_8.var()),3)"
      ],
      "execution_count": null,
      "outputs": [
        {
          "output_type": "execute_result",
          "data": {
            "text/plain": [
              "1.164"
            ]
          },
          "metadata": {
            "tags": []
          },
          "execution_count": 24
        }
      ]
    },
    {
      "cell_type": "code",
      "metadata": {
        "scrolled": false,
        "id": "9373QiG_St8G",
        "outputId": "351e1090-15f6-4977-81db-4a3705623f6d",
        "colab": {
          "base_uri": "https://localhost:8080/",
          "height": 364
        }
      },
      "source": [
        "df.res_ret_ma_8[1:].plot(figsize = (20,5))\n",
        "plt.title(\"Residuals of Returns\", size = 24)\n",
        "plt.show()"
      ],
      "execution_count": null,
      "outputs": [
        {
          "output_type": "display_data",
          "data": {
            "image/png": "[encoded data removed]",
            "text/plain": [
              "<Figure size 1440x360 with 1 Axes>"
            ]
          },
          "metadata": {
            "tags": [],
            "needs_background": "light"
          }
        }
      ]
    },
    {
      "cell_type": "code",
      "metadata": {
        "id": "o7yGPFYOSt8I",
        "outputId": "be7f44be-e4fb-4f1e-85a4-9c6c2b993fbf",
        "colab": {
          "base_uri": "https://localhost:8080/",
          "height": 159
        }
      },
      "source": [
        "sts.adfuller(df.res_ret_ma_8[2:])"
      ],
      "execution_count": null,
      "outputs": [
        {
          "output_type": "execute_result",
          "data": {
            "text/plain": [
              "(-70.83581502434359,\n",
              " 0.0,\n",
              " 0,\n",
              " 5018,\n",
              " {'1%': -3.4316538358533277,\n",
              "  '10%': -2.567076687880585,\n",
              "  '5%': -2.8621161549128313},\n",
              " 15684.052185059796)"
            ]
          },
          "metadata": {
            "tags": []
          },
          "execution_count": 26
        }
      ]
    },
    {
      "cell_type": "code",
      "metadata": {
        "id": "7rwoa6sGSt8L",
        "outputId": "ccdb1db8-092e-4e64-8ccc-50b225474628",
        "colab": {
          "base_uri": "https://localhost:8080/",
          "height": 293
        }
      },
      "source": [
        "sgt.plot_acf(df.res_ret_ma_8[2:], zero = False, lags = 40)\n",
        "plt.title(\"ACF Of Residuals for Returns\",size=24)\n",
        "plt.show()"
      ],
      "execution_count": null,
      "outputs": [
        {
          "output_type": "display_data",
          "data": {
            "image/png": "[encoded data removed]",
            "text/plain": [
              "<Figure size 432x288 with 1 Axes>"
            ]
          },
          "metadata": {
            "tags": [],
            "needs_background": "light"
          }
        }
      ]
    },
    {
      "cell_type": "markdown",
      "metadata": {
        "id": "GP4uaCL2_KQl"
      },
      "source": [
        "## Normalized Prices"
      ]
    },
    {
      "cell_type": "code",
      "metadata": {
        "id": "IiJW2gZw_ipZ"
      },
      "source": [
        "benchmark = df.market_value.iloc[0]\n",
        "df['norm'] = df.market_value.div(benchmark).mul(100)"
      ],
      "execution_count": null,
      "outputs": []
    },
    {
      "cell_type": "code",
      "metadata": {
        "id": "d7Fk4ThhPstk",
        "colab": {
          "base_uri": "https://localhost:8080/",
          "height": 223
        },
        "outputId": "1d242669-8238-493f-ec88-0fb57330584e"
      },
      "source": [
        "df.head()"
      ],
      "execution_count": null,
      "outputs": [
        {
          "output_type": "execute_result",
          "data": {
            "text/html": [
              "<div>\n",
              "<style scoped>\n",
              "    .dataframe tbody tr th:only-of-type {\n",
              "        vertical-align: middle;\n",
              "    }\n",
              "\n",
              "    .dataframe tbody tr th {\n",
              "        vertical-align: top;\n",
              "    }\n",
              "\n",
              "    .dataframe thead th {\n",
              "        text-align: right;\n",
              "    }\n",
              "</style>\n",
              "<table border=\"1\" class=\"dataframe\">\n",
              "  <thead>\n",
              "    <tr style=\"text-align: right;\">\n",
              "      <th></th>\n",
              "      <th>market_value</th>\n",
              "      <th>returns</th>\n",
              "      <th>res_ret_ma_8</th>\n",
              "      <th>norm</th>\n",
              "    </tr>\n",
              "    <tr>\n",
              "      <th>date</th>\n",
              "      <th></th>\n",
              "      <th></th>\n",
              "      <th></th>\n",
              "      <th></th>\n",
              "    </tr>\n",
              "  </thead>\n",
              "  <tbody>\n",
              "    <tr>\n",
              "      <th>1994-01-07</th>\n",
              "      <td>3445.98</td>\n",
              "      <td>NaN</td>\n",
              "      <td>NaN</td>\n",
              "      <td>100.000000</td>\n",
              "    </tr>\n",
              "    <tr>\n",
              "      <th>1994-01-10</th>\n",
              "      <td>3440.58</td>\n",
              "      <td>-0.156704</td>\n",
              "      <td>NaN</td>\n",
              "      <td>99.843296</td>\n",
              "    </tr>\n",
              "    <tr>\n",
              "      <th>1994-01-11</th>\n",
              "      <td>3413.77</td>\n",
              "      <td>-0.779229</td>\n",
              "      <td>-0.802111</td>\n",
              "      <td>99.065288</td>\n",
              "    </tr>\n",
              "    <tr>\n",
              "      <th>1994-01-12</th>\n",
              "      <td>3372.02</td>\n",
              "      <td>-1.222988</td>\n",
              "      <td>-1.269464</td>\n",
              "      <td>97.853731</td>\n",
              "    </tr>\n",
              "    <tr>\n",
              "      <th>1994-01-13</th>\n",
              "      <td>3360.01</td>\n",
              "      <td>-0.356166</td>\n",
              "      <td>-0.464780</td>\n",
              "      <td>97.505209</td>\n",
              "    </tr>\n",
              "  </tbody>\n",
              "</table>\n",
              "</div>"
            ],
            "text/plain": [
              "            market_value   returns  res_ret_ma_8        norm\n",
              "date                                                        \n",
              "1994-01-07       3445.98       NaN           NaN  100.000000\n",
              "1994-01-10       3440.58 -0.156704           NaN   99.843296\n",
              "1994-01-11       3413.77 -0.779229     -0.802111   99.065288\n",
              "1994-01-12       3372.02 -1.222988     -1.269464   97.853731\n",
              "1994-01-13       3360.01 -0.356166     -0.464780   97.505209"
            ]
          },
          "metadata": {
            "tags": []
          },
          "execution_count": 63
        }
      ]
    },
    {
      "cell_type": "code",
      "metadata": {
        "id": "hzaoTPsM_x7e",
        "colab": {
          "base_uri": "https://localhost:8080/",
          "height": 159
        },
        "outputId": "3a1321f8-8980-42dc-ea13-41463504e3ff"
      },
      "source": [
        "sts.adfuller(df['norm'])"
      ],
      "execution_count": null,
      "outputs": [
        {
          "output_type": "execute_result",
          "data": {
            "text/plain": [
              "(-1.9041551418836287,\n",
              " 0.3301089327703105,\n",
              " 6,\n",
              " 5014,\n",
              " {'1%': -3.4316548765428174,\n",
              "  '10%': -2.5670769326348926,\n",
              "  '5%': -2.8621166146845334},\n",
              " 19541.17381480549)"
            ]
          },
          "metadata": {
            "tags": []
          },
          "execution_count": 64
        }
      ]
    },
    {
      "cell_type": "markdown",
      "metadata": {
        "id": "BeZdKDx8St8P"
      },
      "source": [
        "## Normalized Returns"
      ]
    },
    {
      "cell_type": "code",
      "metadata": {
        "id": "dJQA06rWSt8P"
      },
      "source": [
        "bench_ret = df.returns.iloc[1]\n",
        "df['norm_ret'] = df.returns.div(bench_ret).mul(100)"
      ],
      "execution_count": null,
      "outputs": []
    },
    {
      "cell_type": "code",
      "metadata": {
        "id": "CcUjuc2bRJiM",
        "colab": {
          "base_uri": "https://localhost:8080/",
          "height": 223
        },
        "outputId": "0ca7f448-75b6-4d58-a8f4-fbf8541357ec"
      },
      "source": [
        "df.head()"
      ],
      "execution_count": null,
      "outputs": [
        {
          "output_type": "execute_result",
          "data": {
            "text/html": [
              "<div>\n",
              "<style scoped>\n",
              "    .dataframe tbody tr th:only-of-type {\n",
              "        vertical-align: middle;\n",
              "    }\n",
              "\n",
              "    .dataframe tbody tr th {\n",
              "        vertical-align: top;\n",
              "    }\n",
              "\n",
              "    .dataframe thead th {\n",
              "        text-align: right;\n",
              "    }\n",
              "</style>\n",
              "<table border=\"1\" class=\"dataframe\">\n",
              "  <thead>\n",
              "    <tr style=\"text-align: right;\">\n",
              "      <th></th>\n",
              "      <th>market_value</th>\n",
              "      <th>returns</th>\n",
              "      <th>res_ret_ma_8</th>\n",
              "      <th>norm</th>\n",
              "      <th>norm_ret</th>\n",
              "    </tr>\n",
              "    <tr>\n",
              "      <th>date</th>\n",
              "      <th></th>\n",
              "      <th></th>\n",
              "      <th></th>\n",
              "      <th></th>\n",
              "      <th></th>\n",
              "    </tr>\n",
              "  </thead>\n",
              "  <tbody>\n",
              "    <tr>\n",
              "      <th>1994-01-07</th>\n",
              "      <td>3445.98</td>\n",
              "      <td>NaN</td>\n",
              "      <td>NaN</td>\n",
              "      <td>100.000000</td>\n",
              "      <td>NaN</td>\n",
              "    </tr>\n",
              "    <tr>\n",
              "      <th>1994-01-10</th>\n",
              "      <td>3440.58</td>\n",
              "      <td>-0.156704</td>\n",
              "      <td>NaN</td>\n",
              "      <td>99.843296</td>\n",
              "      <td>20.110175</td>\n",
              "    </tr>\n",
              "    <tr>\n",
              "      <th>1994-01-11</th>\n",
              "      <td>3413.77</td>\n",
              "      <td>-0.779229</td>\n",
              "      <td>-0.802111</td>\n",
              "      <td>99.065288</td>\n",
              "      <td>100.000000</td>\n",
              "    </tr>\n",
              "    <tr>\n",
              "      <th>1994-01-12</th>\n",
              "      <td>3372.02</td>\n",
              "      <td>-1.222988</td>\n",
              "      <td>-1.269464</td>\n",
              "      <td>97.853731</td>\n",
              "      <td>156.948464</td>\n",
              "    </tr>\n",
              "    <tr>\n",
              "      <th>1994-01-13</th>\n",
              "      <td>3360.01</td>\n",
              "      <td>-0.356166</td>\n",
              "      <td>-0.464780</td>\n",
              "      <td>97.505209</td>\n",
              "      <td>45.707526</td>\n",
              "    </tr>\n",
              "  </tbody>\n",
              "</table>\n",
              "</div>"
            ],
            "text/plain": [
              "            market_value   returns  res_ret_ma_8        norm    norm_ret\n",
              "date                                                                    \n",
              "1994-01-07       3445.98       NaN           NaN  100.000000         NaN\n",
              "1994-01-10       3440.58 -0.156704           NaN   99.843296   20.110175\n",
              "1994-01-11       3413.77 -0.779229     -0.802111   99.065288  100.000000\n",
              "1994-01-12       3372.02 -1.222988     -1.269464   97.853731  156.948464\n",
              "1994-01-13       3360.01 -0.356166     -0.464780   97.505209   45.707526"
            ]
          },
          "metadata": {
            "tags": []
          },
          "execution_count": 71
        }
      ]
    },
    {
      "cell_type": "code",
      "metadata": {
        "id": "AVMPK2-6RBfw",
        "colab": {
          "base_uri": "https://localhost:8080/",
          "height": 159
        },
        "outputId": "26b4cb30-14b3-4700-b12f-0f09a15d84d5"
      },
      "source": [
        "sts.adfuller(df.norm_ret[1:])"
      ],
      "execution_count": null,
      "outputs": [
        {
          "output_type": "execute_result",
          "data": {
            "text/plain": [
              "(-12.770265719497255,\n",
              " 7.798058336037547e-24,\n",
              " 32,\n",
              " 4987,\n",
              " {'1%': -3.431661944885779,\n",
              "  '10%': -2.5670785949998973,\n",
              "  '5%': -2.8621197374408225},\n",
              " 64116.75100118076)"
            ]
          },
          "metadata": {
            "tags": []
          },
          "execution_count": 72
        }
      ]
    },
    {
      "cell_type": "code",
      "metadata": {
        "id": "hjLtpAUvSt8R",
        "outputId": "a889a546-4f1e-4749-e86d-769b33aea656",
        "colab": {
          "base_uri": "https://localhost:8080/",
          "height": 293
        }
      },
      "source": [
        "sgt.plot_acf(df.norm_ret[1:], zero = False, lags = 40)\n",
        "plt.title(\"ACF of Normalized Returns\",size=24)\n",
        "plt.show()"
      ],
      "execution_count": null,
      "outputs": [
        {
          "output_type": "display_data",
          "data": {
            "image/png": "[encoded data removed]",
            "text/plain": [
              "<Figure size 432x288 with 1 Axes>"
            ]
          },
          "metadata": {
            "tags": [],
            "needs_background": "light"
          }
        }
      ]
    },
    {
      "cell_type": "code",
      "metadata": {
        "id": "iOMRrXsnSt8T",
        "outputId": "bc07ea61-33c5-499c-b745-f98f8b2a3091",
        "colab": {
          "base_uri": "https://localhost:8080/",
          "height": 588
        }
      },
      "source": [
        "model_norm_ret_ma_8 = ARMA(df.norm_ret[1:], order=(0,8))\n",
        "results_norm_ret_ma_8 = model_norm_ret_ma_8.fit()\n",
        "results_norm_ret_ma_8.summary()"
      ],
      "execution_count": null,
      "outputs": [
        {
          "output_type": "execute_result",
          "data": {
            "text/html": [
              "<table class=\"simpletable\">\n",
              "<caption>ARMA Model Results</caption>\n",
              "<tr>\n",
              "  <th>Dep. Variable:</th>     <td>norm_ret</td>     <th>  No. Observations:  </th>    <td>5020</td>   \n",
              "</tr>\n",
              "<tr>\n",
              "  <th>Model:</th>            <td>ARMA(0, 8)</td>    <th>  Log Likelihood     </th> <td>-32255.797</td>\n",
              "</tr>\n",
              "<tr>\n",
              "  <th>Method:</th>             <td>css-mle</td>     <th>  S.D. of innovations</th>   <td>149.383</td> \n",
              "</tr>\n",
              "<tr>\n",
              "  <th>Date:</th>          <td>Tue, 21 Apr 2020</td> <th>  AIC                </th>  <td>64531.594</td>\n",
              "</tr>\n",
              "<tr>\n",
              "  <th>Time:</th>              <td>10:27:33</td>     <th>  BIC                </th>  <td>64596.806</td>\n",
              "</tr>\n",
              "<tr>\n",
              "  <th>Sample:</th>           <td>01-10-1994</td>    <th>  HQIC               </th>  <td>64554.445</td>\n",
              "</tr>\n",
              "<tr>\n",
              "  <th></th>                 <td>- 04-05-2013</td>   <th>                     </th>      <td> </td>    \n",
              "</tr>\n",
              "</table>\n",
              "<table class=\"simpletable\">\n",
              "<tr>\n",
              "         <td></td>           <th>coef</th>     <th>std err</th>      <th>z</th>      <th>P>|z|</th>  <th>[0.025</th>    <th>0.975]</th>  \n",
              "</tr>\n",
              "<tr>\n",
              "  <th>const</th>          <td>   -2.4252</td> <td>    1.779</td> <td>   -1.363</td> <td> 0.173</td> <td>   -5.912</td> <td>    1.061</td>\n",
              "</tr>\n",
              "<tr>\n",
              "  <th>ma.L1.norm_ret</th> <td>   -0.0238</td> <td>    0.014</td> <td>   -1.688</td> <td> 0.091</td> <td>   -0.051</td> <td>    0.004</td>\n",
              "</tr>\n",
              "<tr>\n",
              "  <th>ma.L2.norm_ret</th> <td>   -0.0495</td> <td>    0.014</td> <td>   -3.514</td> <td> 0.000</td> <td>   -0.077</td> <td>   -0.022</td>\n",
              "</tr>\n",
              "<tr>\n",
              "  <th>ma.L3.norm_ret</th> <td>   -0.0847</td> <td>    0.014</td> <td>   -5.993</td> <td> 0.000</td> <td>   -0.112</td> <td>   -0.057</td>\n",
              "</tr>\n",
              "<tr>\n",
              "  <th>ma.L4.norm_ret</th> <td>    0.0488</td> <td>    0.014</td> <td>    3.440</td> <td> 0.001</td> <td>    0.021</td> <td>    0.077</td>\n",
              "</tr>\n",
              "<tr>\n",
              "  <th>ma.L5.norm_ret</th> <td>   -0.0518</td> <td>    0.014</td> <td>   -3.634</td> <td> 0.000</td> <td>   -0.080</td> <td>   -0.024</td>\n",
              "</tr>\n",
              "<tr>\n",
              "  <th>ma.L6.norm_ret</th> <td>   -0.0402</td> <td>    0.014</td> <td>   -2.787</td> <td> 0.005</td> <td>   -0.068</td> <td>   -0.012</td>\n",
              "</tr>\n",
              "<tr>\n",
              "  <th>ma.L7.norm_ret</th> <td>    0.0084</td> <td>    0.014</td> <td>    0.587</td> <td> 0.557</td> <td>   -0.020</td> <td>    0.036</td>\n",
              "</tr>\n",
              "<tr>\n",
              "  <th>ma.L8.norm_ret</th> <td>    0.0366</td> <td>    0.014</td> <td>    2.626</td> <td> 0.009</td> <td>    0.009</td> <td>    0.064</td>\n",
              "</tr>\n",
              "</table>\n",
              "<table class=\"simpletable\">\n",
              "<caption>Roots</caption>\n",
              "<tr>\n",
              "    <td></td>   <th>            Real</th>  <th>         Imaginary</th> <th>         Modulus</th>  <th>        Frequency</th>\n",
              "</tr>\n",
              "<tr>\n",
              "  <th>MA.1</th> <td>           1.4716</td> <td>          -0.4282j</td> <td>           1.5326</td> <td>          -0.0451</td>\n",
              "</tr>\n",
              "<tr>\n",
              "  <th>MA.2</th> <td>           1.4716</td> <td>          +0.4282j</td> <td>           1.5326</td> <td>           0.0451</td>\n",
              "</tr>\n",
              "<tr>\n",
              "  <th>MA.3</th> <td>           0.5944</td> <td>          -1.3169j</td> <td>           1.4448</td> <td>          -0.1825</td>\n",
              "</tr>\n",
              "<tr>\n",
              "  <th>MA.4</th> <td>           0.5944</td> <td>          +1.3169j</td> <td>           1.4448</td> <td>           0.1825</td>\n",
              "</tr>\n",
              "<tr>\n",
              "  <th>MA.5</th> <td>          -0.7318</td> <td>          -1.2736j</td> <td>           1.4689</td> <td>          -0.3330</td>\n",
              "</tr>\n",
              "<tr>\n",
              "  <th>MA.6</th> <td>          -0.7318</td> <td>          +1.2736j</td> <td>           1.4689</td> <td>           0.3330</td>\n",
              "</tr>\n",
              "<tr>\n",
              "  <th>MA.7</th> <td>          -1.4485</td> <td>          -0.6983j</td> <td>           1.6081</td> <td>          -0.4285</td>\n",
              "</tr>\n",
              "<tr>\n",
              "  <th>MA.8</th> <td>          -1.4485</td> <td>          +0.6983j</td> <td>           1.6081</td> <td>           0.4285</td>\n",
              "</tr>\n",
              "</table>"
            ],
            "text/plain": [
              "<class 'statsmodels.iolib.summary.Summary'>\n",
              "\"\"\"\n",
              "                              ARMA Model Results                              \n",
              "==============================================================================\n",
              "Dep. Variable:               norm_ret   No. Observations:                 5020\n",
              "Model:                     ARMA(0, 8)   Log Likelihood              -32255.797\n",
              "Method:                       css-mle   S.D. of innovations            149.383\n",
              "Date:                Tue, 21 Apr 2020   AIC                          64531.594\n",
              "Time:                        10:27:33   BIC                          64596.806\n",
              "Sample:                    01-10-1994   HQIC                         64554.445\n",
              "                         - 04-05-2013                                         \n",
              "==================================================================================\n",
              "                     coef    std err          z      P>|z|      [0.025      0.975]\n",
              "----------------------------------------------------------------------------------\n",
              "const             -2.4252      1.779     -1.363      0.173      -5.912       1.061\n",
              "ma.L1.norm_ret    -0.0238      0.014     -1.688      0.091      -0.051       0.004\n",
              "ma.L2.norm_ret    -0.0495      0.014     -3.514      0.000      -0.077      -0.022\n",
              "ma.L3.norm_ret    -0.0847      0.014     -5.993      0.000      -0.112      -0.057\n",
              "ma.L4.norm_ret     0.0488      0.014      3.440      0.001       0.021       0.077\n",
              "ma.L5.norm_ret    -0.0518      0.014     -3.634      0.000      -0.080      -0.024\n",
              "ma.L6.norm_ret    -0.0402      0.014     -2.787      0.005      -0.068      -0.012\n",
              "ma.L7.norm_ret     0.0084      0.014      0.587      0.557      -0.020       0.036\n",
              "ma.L8.norm_ret     0.0366      0.014      2.626      0.009       0.009       0.064\n",
              "                                    Roots                                    \n",
              "=============================================================================\n",
              "                  Real          Imaginary           Modulus         Frequency\n",
              "-----------------------------------------------------------------------------\n",
              "MA.1            1.4716           -0.4282j            1.5326           -0.0451\n",
              "MA.2            1.4716           +0.4282j            1.5326            0.0451\n",
              "MA.3            0.5944           -1.3169j            1.4448           -0.1825\n",
              "MA.4            0.5944           +1.3169j            1.4448            0.1825\n",
              "MA.5           -0.7318           -1.2736j            1.4689           -0.3330\n",
              "MA.6           -0.7318           +1.2736j            1.4689            0.3330\n",
              "MA.7           -1.4485           -0.6983j            1.6081           -0.4285\n",
              "MA.8           -1.4485           +0.6983j            1.6081            0.4285\n",
              "-----------------------------------------------------------------------------\n",
              "\"\"\""
            ]
          },
          "metadata": {
            "tags": []
          },
          "execution_count": 74
        }
      ]
    },
    {
      "cell_type": "code",
      "metadata": {
        "id": "cGJctMweSt8V"
      },
      "source": [
        "df['res_norm_ret_ma_8'] = results_norm_ret_ma_8.resid[1:]"
      ],
      "execution_count": null,
      "outputs": []
    },
    {
      "cell_type": "code",
      "metadata": {
        "id": "IdAOVXMODi7-",
        "colab": {
          "base_uri": "https://localhost:8080/",
          "height": 159
        },
        "outputId": "8770aa34-b304-477c-8e63-3b31f11f5033"
      },
      "source": [
        "sts.adfuller(df.res_norm_ret_ma_8[2:])"
      ],
      "execution_count": null,
      "outputs": [
        {
          "output_type": "execute_result",
          "data": {
            "text/plain": [
              "(-70.8358058987761,\n",
              " 0.0,\n",
              " 0,\n",
              " 5018,\n",
              " {'1%': -3.4316538358533277,\n",
              "  '10%': -2.567076687880585,\n",
              "  '5%': -2.8621161549128313},\n",
              " 64094.32669974392)"
            ]
          },
          "metadata": {
            "tags": []
          },
          "execution_count": 76
        }
      ]
    },
    {
      "cell_type": "code",
      "metadata": {
        "id": "bsfBNRxASt8X",
        "outputId": "aa7b9125-3bdc-4b0c-ebe3-79162830e858",
        "colab": {
          "base_uri": "https://localhost:8080/",
          "height": 364
        }
      },
      "source": [
        "df.res_norm_ret_ma_8[1:].plot(figsize=(20,5))\n",
        "plt.title(\"Residuals of Normalized Returns\",size=24)\n",
        "plt.show()"
      ],
      "execution_count": null,
      "outputs": [
        {
          "output_type": "display_data",
          "data": {
            "image/png": "[encoded data removed]",
            "text/plain": [
              "<Figure size 1440x360 with 1 Axes>"
            ]
          },
          "metadata": {
            "tags": [],
            "needs_background": "light"
          }
        }
      ]
    },
    {
      "cell_type": "code",
      "metadata": {
        "id": "a_eIve3gSt8Z",
        "outputId": "5e4aed9f-ec66-4d67-8a1f-bf9a152128c6",
        "colab": {
          "base_uri": "https://localhost:8080/",
          "height": 293
        }
      },
      "source": [
        "sgt.plot_acf(df.res_norm_ret_ma_8[2:], zero = False, lags = 40)\n",
        "plt.title(\"ACF Of Residuals for Normalized Returns\",size=24)\n",
        "plt.show()"
      ],
      "execution_count": null,
      "outputs": [
        {
          "output_type": "display_data",
          "data": {
            "image/png": "[encoded data removed]",
            "text/plain": [
              "<Figure size 432x288 with 1 Axes>"
            ]
          },
          "metadata": {
            "tags": [],
            "needs_background": "light"
          }
        }
      ]
    },
    {
      "cell_type": "markdown",
      "metadata": {
        "id": "JhWxzq5vSt8b"
      },
      "source": [
        "## MA Models For Prices"
      ]
    },
    {
      "cell_type": "code",
      "metadata": {
        "scrolled": true,
        "id": "p5xFf4c3St8b",
        "outputId": "47667af8-cf97-4848-ea14-6657cbfde174",
        "colab": {
          "base_uri": "https://localhost:8080/",
          "height": 289
        }
      },
      "source": [
        "sgt.plot_acf(df.market_value, zero = False, lags = 40)\n",
        "plt.title(\"ACF for Prices\", size=20)\n",
        "plt.show()"
      ],
      "execution_count": null,
      "outputs": [
        {
          "output_type": "display_data",
          "data": {
            "image/png": "[encoded data removed]",
            "text/plain": [
              "<Figure size 432x288 with 1 Axes>"
            ]
          },
          "metadata": {
            "tags": [],
            "needs_background": "light"
          }
        }
      ]
    },
    {
      "cell_type": "code",
      "metadata": {
        "id": "F5CJs7rSSt8d",
        "outputId": "5cc4582f-0900-4df6-9c55-e23435db4f20",
        "colab": {
          "base_uri": "https://localhost:8080/",
          "height": 301
        }
      },
      "source": [
        "model_ma_1 = ARMA(df.market_value, order=(0,1))\n",
        "results_ma_1 = model_ma_1.fit()\n",
        "results_ma_1.summary()"
      ],
      "execution_count": null,
      "outputs": [
        {
          "output_type": "execute_result",
          "data": {
            "text/html": [
              "<table class=\"simpletable\">\n",
              "<caption>ARMA Model Results</caption>\n",
              "<tr>\n",
              "  <th>Dep. Variable:</th>   <td>market_value</td>   <th>  No. Observations:  </th>    <td>5021</td>   \n",
              "</tr>\n",
              "<tr>\n",
              "  <th>Model:</th>            <td>ARMA(0, 1)</td>    <th>  Log Likelihood     </th> <td>-38629.000</td>\n",
              "</tr>\n",
              "<tr>\n",
              "  <th>Method:</th>             <td>css-mle</td>     <th>  S.D. of innovations</th>   <td>530.756</td> \n",
              "</tr>\n",
              "<tr>\n",
              "  <th>Date:</th>          <td>Tue, 21 Apr 2020</td> <th>  AIC                </th>  <td>77264.000</td>\n",
              "</tr>\n",
              "<tr>\n",
              "  <th>Time:</th>              <td>10:33:21</td>     <th>  BIC                </th>  <td>77283.564</td>\n",
              "</tr>\n",
              "<tr>\n",
              "  <th>Sample:</th>           <td>01-07-1994</td>    <th>  HQIC               </th>  <td>77270.856</td>\n",
              "</tr>\n",
              "<tr>\n",
              "  <th></th>                 <td>- 04-05-2013</td>   <th>                     </th>      <td> </td>    \n",
              "</tr>\n",
              "</table>\n",
              "<table class=\"simpletable\">\n",
              "<tr>\n",
              "           <td></td>             <th>coef</th>     <th>std err</th>      <th>z</th>      <th>P>|z|</th>  <th>[0.025</th>    <th>0.975]</th>  \n",
              "</tr>\n",
              "<tr>\n",
              "  <th>const</th>              <td> 5089.6652</td> <td>   14.660</td> <td>  347.192</td> <td> 0.000</td> <td> 5060.933</td> <td> 5118.397</td>\n",
              "</tr>\n",
              "<tr>\n",
              "  <th>ma.L1.market_value</th> <td>    0.9573</td> <td>    0.003</td> <td>  335.561</td> <td> 0.000</td> <td>    0.952</td> <td>    0.963</td>\n",
              "</tr>\n",
              "</table>\n",
              "<table class=\"simpletable\">\n",
              "<caption>Roots</caption>\n",
              "<tr>\n",
              "    <td></td>   <th>            Real</th>  <th>         Imaginary</th> <th>         Modulus</th>  <th>        Frequency</th>\n",
              "</tr>\n",
              "<tr>\n",
              "  <th>MA.1</th> <td>          -1.0446</td> <td>          +0.0000j</td> <td>           1.0446</td> <td>           0.5000</td>\n",
              "</tr>\n",
              "</table>"
            ],
            "text/plain": [
              "<class 'statsmodels.iolib.summary.Summary'>\n",
              "\"\"\"\n",
              "                              ARMA Model Results                              \n",
              "==============================================================================\n",
              "Dep. Variable:           market_value   No. Observations:                 5021\n",
              "Model:                     ARMA(0, 1)   Log Likelihood              -38629.000\n",
              "Method:                       css-mle   S.D. of innovations            530.756\n",
              "Date:                Tue, 21 Apr 2020   AIC                          77264.000\n",
              "Time:                        10:33:21   BIC                          77283.564\n",
              "Sample:                    01-07-1994   HQIC                         77270.856\n",
              "                         - 04-05-2013                                         \n",
              "======================================================================================\n",
              "                         coef    std err          z      P>|z|      [0.025      0.975]\n",
              "--------------------------------------------------------------------------------------\n",
              "const               5089.6652     14.660    347.192      0.000    5060.933    5118.397\n",
              "ma.L1.market_value     0.9573      0.003    335.561      0.000       0.952       0.963\n",
              "                                    Roots                                    \n",
              "=============================================================================\n",
              "                  Real          Imaginary           Modulus         Frequency\n",
              "-----------------------------------------------------------------------------\n",
              "MA.1           -1.0446           +0.0000j            1.0446            0.5000\n",
              "-----------------------------------------------------------------------------\n",
              "\"\"\""
            ]
          },
          "metadata": {
            "tags": []
          },
          "execution_count": 80
        }
      ]
    }
  ]
}