{
  "nbformat": 4,
  "nbformat_minor": 0,
  "metadata": {
    "kernelspec": {
      "display_name": "Python 3",
      "language": "python",
      "name": "python3"
    },
    "language_info": {
      "codemirror_mode": {
        "name": "ipython",
        "version": 3
      },
      "file_extension": ".py",
      "mimetype": "text/x-python",
      "name": "python",
      "nbconvert_exporter": "python",
      "pygments_lexer": "ipython3",
      "version": "3.6.7"
    },
    "colab": {
      "name": "11_SARIMAX.ipynb",
      "provenance": [],
      "collapsed_sections": [],
      "include_colab_link": true
    }
  },
  "cells": [
    {
      "cell_type": "markdown",
      "metadata": {
        "id": "view-in-github",
        "colab_type": "text"
      },
      "source": [
        "<a href=\"https://colab.research.google.com/github/pacomm5/curso-series-temporales/blob/master/8.%20ARIMA%20autorregresivo%20integrado%20de%20medias%20moviles/Python/11_SARIMAX.ipynb\" target=\"_parent\"><img src=\"https://colab.research.google.com/assets/colab-badge.svg\" alt=\"Open In Colab\"/></a>"
      ]
    },
    {
      "cell_type": "markdown",
      "metadata": {
        "id": "BPDr7s99_K-0"
      },
      "source": [
        "## Importing the relevant packages"
      ]
    },
    {
      "cell_type": "code",
      "metadata": {
        "id": "MUKNsK21_K-1"
      },
      "source": [
        "import pandas as pd\n",
        "import numpy as np\n",
        "import matplotlib.pyplot as plt\n",
        "import statsmodels.graphics.tsaplots as sgt\n",
        "import statsmodels.tsa.stattools as sts\n",
        "from statsmodels.tsa.arima_model import ARIMA\n",
        "from scipy.stats.distributions import chi2 \n",
        "from math import sqrt\n",
        "import seaborn as sns\n",
        "sns.set()"
      ],
      "execution_count": 2,
      "outputs": []
    },
    {
      "cell_type": "markdown",
      "metadata": {
        "id": "81rnwAeu_K-7"
      },
      "source": [
        " "
      ]
    },
    {
      "cell_type": "markdown",
      "metadata": {
        "id": "GUJCJsSf_K-8"
      },
      "source": [
        "## Importing the Data and Pre-processing "
      ]
    },
    {
      "cell_type": "code",
      "metadata": {
        "id": "01HjbjLj_K-9"
      },
      "source": [
        "raw_csv_data = pd.read_csv(\"https://raw.githubusercontent.com/MaddoSaru/curso-series-temporales/master/8.%20ARIMA%20autorregresivo%20integrado%20de%20medias%20moviles/Python/Index2018.csv\") \n",
        "df_comp=raw_csv_data.copy()\n",
        "df_comp.date = pd.to_datetime(df_comp.date, dayfirst = True)\n",
        "df_comp.set_index(\"date\", inplace=True)\n",
        "df_comp=df_comp.asfreq('b')\n",
        "df_comp=df_comp.fillna(method='ffill')"
      ],
      "execution_count": 3,
      "outputs": []
    },
    {
      "cell_type": "code",
      "metadata": {
        "id": "NInk_yES_K_A"
      },
      "source": [
        "df_comp['market_value']=df_comp.ftse"
      ],
      "execution_count": 4,
      "outputs": []
    },
    {
      "cell_type": "code",
      "metadata": {
        "id": "3ZShkZBk_K_D"
      },
      "source": [
        "import warnings\n",
        "warnings.filterwarnings(\"ignore\")"
      ],
      "execution_count": 5,
      "outputs": []
    },
    {
      "cell_type": "code",
      "metadata": {
        "id": "__Vn50Mi_K_G"
      },
      "source": [
        "#del df_comp['spx']\n",
        "#del df_comp['dax']\n",
        "#del df_comp['ftse']\n",
        "#del df_comp['nikkei']\n",
        "size = int(len(df_comp)*0.8)\n",
        "df, df_test = df_comp.iloc[:size], df_comp.iloc[size:]"
      ],
      "execution_count": 6,
      "outputs": []
    },
    {
      "cell_type": "markdown",
      "metadata": {
        "id": "u_HgIakH_K_K"
      },
      "source": [
        " "
      ]
    },
    {
      "cell_type": "markdown",
      "metadata": {
        "id": "DysFtAnu_K_L"
      },
      "source": [
        "## The LLR Test"
      ]
    },
    {
      "cell_type": "code",
      "metadata": {
        "id": "OtkaanKr_K_M"
      },
      "source": [
        "def LLR_test(mod_1, mod_2, DF = 1):\n",
        "    L1 = mod_1.llf\n",
        "    L2 = mod_2.llf\n",
        "    LR = (2*(L2-L1))    \n",
        "    p = chi2.sf(LR, DF).round(3)\n",
        "    return p"
      ],
      "execution_count": 7,
      "outputs": []
    },
    {
      "cell_type": "markdown",
      "metadata": {
        "id": "i-X39u4r_K_Q"
      },
      "source": [
        "## Creating Returns"
      ]
    },
    {
      "cell_type": "code",
      "metadata": {
        "scrolled": true,
        "id": "grNAxQ2K_K_Q"
      },
      "source": [
        "df['returns'] = df.market_value.pct_change(1)*100"
      ],
      "execution_count": 8,
      "outputs": []
    },
    {
      "cell_type": "markdown",
      "metadata": {
        "id": "DfflTfof_K_T"
      },
      "source": [
        "## ARIMA(1,1,1)"
      ]
    },
    {
      "cell_type": "code",
      "metadata": {
        "id": "b_8CVL4m_K_U",
        "colab": {
          "base_uri": "https://localhost:8080/",
          "height": 351
        },
        "outputId": "aee469ec-2208-4e96-b59a-17010cc66205"
      },
      "source": [
        "model_ar_1_i_1_ma_1 = ARIMA(df.market_value, order=(1,1,1))\n",
        "results_ar_1_i_1_ma_1 = model_ar_1_i_1_ma_1.fit()\n",
        "results_ar_1_i_1_ma_1.summary()"
      ],
      "execution_count": 9,
      "outputs": [
        {
          "output_type": "execute_result",
          "data": {
            "text/html": [
              "<table class=\"simpletable\">\n",
              "<caption>ARIMA Model Results</caption>\n",
              "<tr>\n",
              "  <th>Dep. Variable:</th>  <td>D.market_value</td>  <th>  No. Observations:  </th>    <td>5020</td>   \n",
              "</tr>\n",
              "<tr>\n",
              "  <th>Model:</th>          <td>ARIMA(1, 1, 1)</td>  <th>  Log Likelihood     </th> <td>-27603.666</td>\n",
              "</tr>\n",
              "<tr>\n",
              "  <th>Method:</th>             <td>css-mle</td>     <th>  S.D. of innovations</th>   <td>59.134</td>  \n",
              "</tr>\n",
              "<tr>\n",
              "  <th>Date:</th>          <td>Sat, 19 Feb 2022</td> <th>  AIC                </th>  <td>55215.333</td>\n",
              "</tr>\n",
              "<tr>\n",
              "  <th>Time:</th>              <td>22:11:23</td>     <th>  BIC                </th>  <td>55241.418</td>\n",
              "</tr>\n",
              "<tr>\n",
              "  <th>Sample:</th>           <td>01-10-1994</td>    <th>  HQIC               </th>  <td>55224.473</td>\n",
              "</tr>\n",
              "<tr>\n",
              "  <th></th>                 <td>- 04-05-2013</td>   <th>                     </th>      <td> </td>    \n",
              "</tr>\n",
              "</table>\n",
              "<table class=\"simpletable\">\n",
              "<tr>\n",
              "            <td></td>              <th>coef</th>     <th>std err</th>      <th>z</th>      <th>P>|z|</th>  <th>[0.025</th>    <th>0.975]</th>  \n",
              "</tr>\n",
              "<tr>\n",
              "  <th>const</th>                <td>    0.5654</td> <td>    0.682</td> <td>    0.829</td> <td> 0.407</td> <td>   -0.772</td> <td>    1.903</td>\n",
              "</tr>\n",
              "<tr>\n",
              "  <th>ar.L1.D.market_value</th> <td>    0.7475</td> <td>    0.070</td> <td>   10.652</td> <td> 0.000</td> <td>    0.610</td> <td>    0.885</td>\n",
              "</tr>\n",
              "<tr>\n",
              "  <th>ma.L1.D.market_value</th> <td>   -0.7936</td> <td>    0.064</td> <td>  -12.378</td> <td> 0.000</td> <td>   -0.919</td> <td>   -0.668</td>\n",
              "</tr>\n",
              "</table>\n",
              "<table class=\"simpletable\">\n",
              "<caption>Roots</caption>\n",
              "<tr>\n",
              "    <td></td>   <th>            Real</th>  <th>         Imaginary</th> <th>         Modulus</th>  <th>        Frequency</th>\n",
              "</tr>\n",
              "<tr>\n",
              "  <th>AR.1</th> <td>           1.3378</td> <td>          +0.0000j</td> <td>           1.3378</td> <td>           0.0000</td>\n",
              "</tr>\n",
              "<tr>\n",
              "  <th>MA.1</th> <td>           1.2601</td> <td>          +0.0000j</td> <td>           1.2601</td> <td>           0.0000</td>\n",
              "</tr>\n",
              "</table>"
            ],
            "text/plain": [
              "<class 'statsmodels.iolib.summary.Summary'>\n",
              "\"\"\"\n",
              "                             ARIMA Model Results                              \n",
              "==============================================================================\n",
              "Dep. Variable:         D.market_value   No. Observations:                 5020\n",
              "Model:                 ARIMA(1, 1, 1)   Log Likelihood              -27603.666\n",
              "Method:                       css-mle   S.D. of innovations             59.134\n",
              "Date:                Sat, 19 Feb 2022   AIC                          55215.333\n",
              "Time:                        22:11:23   BIC                          55241.418\n",
              "Sample:                    01-10-1994   HQIC                         55224.473\n",
              "                         - 04-05-2013                                         \n",
              "========================================================================================\n",
              "                           coef    std err          z      P>|z|      [0.025      0.975]\n",
              "----------------------------------------------------------------------------------------\n",
              "const                    0.5654      0.682      0.829      0.407      -0.772       1.903\n",
              "ar.L1.D.market_value     0.7475      0.070     10.652      0.000       0.610       0.885\n",
              "ma.L1.D.market_value    -0.7936      0.064    -12.378      0.000      -0.919      -0.668\n",
              "                                    Roots                                    \n",
              "=============================================================================\n",
              "                  Real          Imaginary           Modulus         Frequency\n",
              "-----------------------------------------------------------------------------\n",
              "AR.1            1.3378           +0.0000j            1.3378            0.0000\n",
              "MA.1            1.2601           +0.0000j            1.2601            0.0000\n",
              "-----------------------------------------------------------------------------\n",
              "\"\"\""
            ]
          },
          "metadata": {},
          "execution_count": 9
        }
      ]
    },
    {
      "cell_type": "markdown",
      "metadata": {
        "id": "tZQ-16iw_K_Y"
      },
      "source": [
        "## Residuals of the ARIMA(1,1,1)"
      ]
    },
    {
      "cell_type": "code",
      "metadata": {
        "id": "fYtRqOoh_K_Z",
        "colab": {
          "base_uri": "https://localhost:8080/",
          "height": 289
        },
        "outputId": "84802c42-d2a4-491a-ef6d-21659bd7ccf2"
      },
      "source": [
        "df['res_ar_1_i_1_ma_1'] = results_ar_1_i_1_ma_1.resid\n",
        "sgt.plot_acf(df.res_ar_1_i_1_ma_1, zero = False, lags = 40)\n",
        "plt.title(\"ACF Of Residuals for ARIMA(1,1,1)\",size=20)\n",
        "plt.show()"
      ],
      "execution_count": 10,
      "outputs": [
        {
          "output_type": "display_data",
          "data": {
            "image/png": "[encoded data removed]",
            "text/plain": [
              "<Figure size 432x288 with 1 Axes>"
            ]
          },
          "metadata": {}
        }
      ]
    },
    {
      "cell_type": "code",
      "metadata": {
        "id": "IKipaOTE_K_e",
        "colab": {
          "base_uri": "https://localhost:8080/",
          "height": 289
        },
        "outputId": "11238291-20f0-4bf1-c3c5-3a0aac5431eb"
      },
      "source": [
        "df['res_ar_1_i_1_ma_1'] = results_ar_1_i_1_ma_1.resid.iloc[:]\n",
        "sgt.plot_acf(df.res_ar_1_i_1_ma_1[1:], zero = False, lags = 40)\n",
        "plt.title(\"ACF Of Residuals for ARIMA(1,1,1)\",size=20)\n",
        "plt.show()"
      ],
      "execution_count": 11,
      "outputs": [
        {
          "output_type": "display_data",
          "data": {
            "image/png": "[encoded data removed]",
            "text/plain": [
              "<Figure size 432x288 with 1 Axes>"
            ]
          },
          "metadata": {}
        }
      ]
    },
    {
      "cell_type": "markdown",
      "metadata": {
        "id": "1jcCzQOW_K_i"
      },
      "source": [
        "## Higher-Lag ARIMA Models"
      ]
    },
    {
      "cell_type": "code",
      "metadata": {
        "id": "eBPwYxDX_K_j"
      },
      "source": [
        "model_ar_1_i_1_ma_2 = ARIMA(df.market_value, order=(1,1,2))\n",
        "results_ar_1_i_1_ma_2 = model_ar_1_i_1_ma_2.fit()\n",
        "model_ar_1_i_1_ma_3 = ARIMA(df.market_value, order=(1,1,3))\n",
        "results_ar_1_i_1_ma_3 = model_ar_1_i_1_ma_3.fit()\n",
        "model_ar_2_i_1_ma_1 = ARIMA(df.market_value, order=(2,1,1))\n",
        "results_ar_2_i_1_ma_1 = model_ar_2_i_1_ma_1.fit()\n",
        "model_ar_3_i_1_ma_1 = ARIMA(df.market_value, order=(3,1,1))\n",
        "results_ar_3_i_1_ma_1 = model_ar_3_i_1_ma_1.fit()\n",
        "model_ar_3_i_1_ma_2 = ARIMA(df.market_value, order=(3,1,2))\n",
        "results_ar_3_i_1_ma_2 = model_ar_3_i_1_ma_2.fit(start_ar_lags=5)"
      ],
      "execution_count": 12,
      "outputs": []
    },
    {
      "cell_type": "code",
      "metadata": {
        "id": "9dWit4Ey_K_m",
        "colab": {
          "base_uri": "https://localhost:8080/"
        },
        "outputId": "12a9a75d-255e-4ad5-98f7-c766e09739f5"
      },
      "source": [
        "print(\"ARIMA(1,1,1):  \\t LL = \", results_ar_1_i_1_ma_1.llf, \"\\t AIC = \", results_ar_1_i_1_ma_1.aic)\n",
        "print(\"ARIMA(1,1,2):  \\t LL = \", results_ar_1_i_1_ma_2.llf, \"\\t AIC = \", results_ar_1_i_1_ma_2.aic)\n",
        "print(\"ARIMA(1,1,3):  \\t LL = \", results_ar_1_i_1_ma_3.llf, \"\\t AIC = \", results_ar_1_i_1_ma_3.aic)\n",
        "print(\"ARIMA(2,1,1):  \\t LL = \", results_ar_2_i_1_ma_1.llf, \"\\t AIC = \", results_ar_2_i_1_ma_1.aic)\n",
        "print(\"ARIMA(3,1,1):  \\t LL = \", results_ar_3_i_1_ma_1.llf, \"\\t AIC = \", results_ar_3_i_1_ma_1.aic)\n",
        "print(\"ARIMA(3,1,2):  \\t LL = \", results_ar_3_i_1_ma_2.llf, \"\\t AIC = \", results_ar_3_i_1_ma_2.aic)"
      ],
      "execution_count": 13,
      "outputs": [
        {
          "output_type": "stream",
          "name": "stdout",
          "text": [
            "ARIMA(1,1,1):  \t LL =  -27603.666412772705 \t AIC =  55215.33282554541\n",
            "ARIMA(1,1,2):  \t LL =  -27600.081863115494 \t AIC =  55210.16372623099\n",
            "ARIMA(1,1,3):  \t LL =  -27590.424032541418 \t AIC =  55192.848065082835\n",
            "ARIMA(2,1,1):  \t LL =  -27599.807487847964 \t AIC =  55209.61497569593\n",
            "ARIMA(3,1,1):  \t LL =  -27592.055371699567 \t AIC =  55196.110743399135\n",
            "ARIMA(3,1,2):  \t LL =  -27590.660808972454 \t AIC =  55195.32161794491\n"
          ]
        }
      ]
    },
    {
      "cell_type": "code",
      "metadata": {
        "id": "r3XQUi57_K_p",
        "colab": {
          "base_uri": "https://localhost:8080/"
        },
        "outputId": "a1269d2a-0eb8-4c18-81b4-f2209516ffae"
      },
      "source": [
        "print(\"\\nLLR test p-value = \" + str(LLR_test(results_ar_1_i_1_ma_2, results_ar_1_i_1_ma_3)))"
      ],
      "execution_count": 14,
      "outputs": [
        {
          "output_type": "stream",
          "name": "stdout",
          "text": [
            "\n",
            "LLR test p-value = 0.0\n"
          ]
        }
      ]
    },
    {
      "cell_type": "code",
      "metadata": {
        "id": "Py3otFUl_K_t",
        "colab": {
          "base_uri": "https://localhost:8080/"
        },
        "outputId": "5bfa337d-a2e9-41c4-96dd-9d9df9cabf99"
      },
      "source": [
        "print(\"\\nLLR test p-value = \" + str(LLR_test(results_ar_1_i_1_ma_1, results_ar_1_i_1_ma_3, DF = 2)))"
      ],
      "execution_count": 15,
      "outputs": [
        {
          "output_type": "stream",
          "name": "stdout",
          "text": [
            "\n",
            "LLR test p-value = 0.0\n"
          ]
        }
      ]
    },
    {
      "cell_type": "code",
      "metadata": {
        "id": "8DjdFPxG_K_v",
        "colab": {
          "base_uri": "https://localhost:8080/",
          "height": 289
        },
        "outputId": "c2ad8024-2996-498d-f073-b6e47c1a04f4"
      },
      "source": [
        "df['res_ar_1_i_1_ma_3'] = results_ar_1_i_1_ma_3.resid\n",
        "sgt.plot_acf(df.res_ar_1_i_1_ma_3[1:], zero = False, lags = 40)\n",
        "plt.title(\"ACF Of Residuals for ARIMA(1,1,3)\", size=20)\n",
        "plt.show()"
      ],
      "execution_count": 16,
      "outputs": [
        {
          "output_type": "display_data",
          "data": {
            "image/png": "[encoded data removed]",
            "text/plain": [
              "<Figure size 432x288 with 1 Axes>"
            ]
          },
          "metadata": {}
        }
      ]
    },
    {
      "cell_type": "code",
      "metadata": {
        "id": "XDljQgn__K_y"
      },
      "source": [
        "model_ar_5_i_1_ma_1 = ARIMA(df.market_value, order=(5,1,1))\n",
        "results_ar_5_i_1_ma_1 = model_ar_5_i_1_ma_1.fit(start_ar_lags=11)\n",
        "model_ar_6_i_1_ma_3 = ARIMA(df.market_value, order=(6,1,3))\n",
        "results_ar_6_i_1_ma_3 = model_ar_6_i_1_ma_3.fit(start_ar_lags=11)"
      ],
      "execution_count": 17,
      "outputs": []
    },
    {
      "cell_type": "code",
      "metadata": {
        "id": "vL2oOqi5_K_2",
        "colab": {
          "base_uri": "https://localhost:8080/",
          "height": 519
        },
        "outputId": "115f6564-47a5-40e9-889e-31e7a0052f12"
      },
      "source": [
        "results_ar_5_i_1_ma_1.summary()"
      ],
      "execution_count": 18,
      "outputs": [
        {
          "output_type": "execute_result",
          "data": {
            "text/html": [
              "<table class=\"simpletable\">\n",
              "<caption>ARIMA Model Results</caption>\n",
              "<tr>\n",
              "  <th>Dep. Variable:</th>  <td>D.market_value</td>  <th>  No. Observations:  </th>    <td>5020</td>   \n",
              "</tr>\n",
              "<tr>\n",
              "  <th>Model:</th>          <td>ARIMA(5, 1, 1)</td>  <th>  Log Likelihood     </th> <td>-27586.512</td>\n",
              "</tr>\n",
              "<tr>\n",
              "  <th>Method:</th>             <td>css-mle</td>     <th>  S.D. of innovations</th>   <td>58.932</td>  \n",
              "</tr>\n",
              "<tr>\n",
              "  <th>Date:</th>          <td>Sat, 19 Feb 2022</td> <th>  AIC                </th>  <td>55189.024</td>\n",
              "</tr>\n",
              "<tr>\n",
              "  <th>Time:</th>              <td>22:11:55</td>     <th>  BIC                </th>  <td>55241.193</td>\n",
              "</tr>\n",
              "<tr>\n",
              "  <th>Sample:</th>           <td>01-10-1994</td>    <th>  HQIC               </th>  <td>55207.305</td>\n",
              "</tr>\n",
              "<tr>\n",
              "  <th></th>                 <td>- 04-05-2013</td>   <th>                     </th>      <td> </td>    \n",
              "</tr>\n",
              "</table>\n",
              "<table class=\"simpletable\">\n",
              "<tr>\n",
              "            <td></td>              <th>coef</th>     <th>std err</th>      <th>z</th>      <th>P>|z|</th>  <th>[0.025</th>    <th>0.975]</th>  \n",
              "</tr>\n",
              "<tr>\n",
              "  <th>const</th>                <td>    0.5662</td> <td>    0.690</td> <td>    0.820</td> <td> 0.412</td> <td>   -0.787</td> <td>    1.919</td>\n",
              "</tr>\n",
              "<tr>\n",
              "  <th>ar.L1.D.market_value</th> <td>    0.4011</td> <td>    0.159</td> <td>    2.530</td> <td> 0.011</td> <td>    0.090</td> <td>    0.712</td>\n",
              "</tr>\n",
              "<tr>\n",
              "  <th>ar.L2.D.market_value</th> <td>   -0.0445</td> <td>    0.016</td> <td>   -2.856</td> <td> 0.004</td> <td>   -0.075</td> <td>   -0.014</td>\n",
              "</tr>\n",
              "<tr>\n",
              "  <th>ar.L3.D.market_value</th> <td>   -0.0543</td> <td>    0.017</td> <td>   -3.163</td> <td> 0.002</td> <td>   -0.088</td> <td>   -0.021</td>\n",
              "</tr>\n",
              "<tr>\n",
              "  <th>ar.L4.D.market_value</th> <td>    0.0586</td> <td>    0.019</td> <td>    3.069</td> <td> 0.002</td> <td>    0.021</td> <td>    0.096</td>\n",
              "</tr>\n",
              "<tr>\n",
              "  <th>ar.L5.D.market_value</th> <td>   -0.0581</td> <td>    0.014</td> <td>   -4.118</td> <td> 0.000</td> <td>   -0.086</td> <td>   -0.030</td>\n",
              "</tr>\n",
              "<tr>\n",
              "  <th>ma.L1.D.market_value</th> <td>   -0.4214</td> <td>    0.158</td> <td>   -2.659</td> <td> 0.008</td> <td>   -0.732</td> <td>   -0.111</td>\n",
              "</tr>\n",
              "</table>\n",
              "<table class=\"simpletable\">\n",
              "<caption>Roots</caption>\n",
              "<tr>\n",
              "    <td></td>   <th>            Real</th>  <th>         Imaginary</th> <th>         Modulus</th>  <th>        Frequency</th>\n",
              "</tr>\n",
              "<tr>\n",
              "  <th>AR.1</th> <td>          -1.7609</td> <td>          -0.0000j</td> <td>           1.7609</td> <td>          -0.5000</td>\n",
              "</tr>\n",
              "<tr>\n",
              "  <th>AR.2</th> <td>           1.4633</td> <td>          -0.8605j</td> <td>           1.6975</td> <td>          -0.0846</td>\n",
              "</tr>\n",
              "<tr>\n",
              "  <th>AR.3</th> <td>           1.4633</td> <td>          +0.8605j</td> <td>           1.6975</td> <td>           0.0846</td>\n",
              "</tr>\n",
              "<tr>\n",
              "  <th>AR.4</th> <td>          -0.0789</td> <td>          -1.8393j</td> <td>           1.8410</td> <td>          -0.2568</td>\n",
              "</tr>\n",
              "<tr>\n",
              "  <th>AR.5</th> <td>          -0.0789</td> <td>          +1.8393j</td> <td>           1.8410</td> <td>           0.2568</td>\n",
              "</tr>\n",
              "<tr>\n",
              "  <th>MA.1</th> <td>           2.3732</td> <td>          +0.0000j</td> <td>           2.3732</td> <td>           0.0000</td>\n",
              "</tr>\n",
              "</table>"
            ],
            "text/plain": [
              "<class 'statsmodels.iolib.summary.Summary'>\n",
              "\"\"\"\n",
              "                             ARIMA Model Results                              \n",
              "==============================================================================\n",
              "Dep. Variable:         D.market_value   No. Observations:                 5020\n",
              "Model:                 ARIMA(5, 1, 1)   Log Likelihood              -27586.512\n",
              "Method:                       css-mle   S.D. of innovations             58.932\n",
              "Date:                Sat, 19 Feb 2022   AIC                          55189.024\n",
              "Time:                        22:11:55   BIC                          55241.193\n",
              "Sample:                    01-10-1994   HQIC                         55207.305\n",
              "                         - 04-05-2013                                         \n",
              "========================================================================================\n",
              "                           coef    std err          z      P>|z|      [0.025      0.975]\n",
              "----------------------------------------------------------------------------------------\n",
              "const                    0.5662      0.690      0.820      0.412      -0.787       1.919\n",
              "ar.L1.D.market_value     0.4011      0.159      2.530      0.011       0.090       0.712\n",
              "ar.L2.D.market_value    -0.0445      0.016     -2.856      0.004      -0.075      -0.014\n",
              "ar.L3.D.market_value    -0.0543      0.017     -3.163      0.002      -0.088      -0.021\n",
              "ar.L4.D.market_value     0.0586      0.019      3.069      0.002       0.021       0.096\n",
              "ar.L5.D.market_value    -0.0581      0.014     -4.118      0.000      -0.086      -0.030\n",
              "ma.L1.D.market_value    -0.4214      0.158     -2.659      0.008      -0.732      -0.111\n",
              "                                    Roots                                    \n",
              "=============================================================================\n",
              "                  Real          Imaginary           Modulus         Frequency\n",
              "-----------------------------------------------------------------------------\n",
              "AR.1           -1.7609           -0.0000j            1.7609           -0.5000\n",
              "AR.2            1.4633           -0.8605j            1.6975           -0.0846\n",
              "AR.3            1.4633           +0.8605j            1.6975            0.0846\n",
              "AR.4           -0.0789           -1.8393j            1.8410           -0.2568\n",
              "AR.5           -0.0789           +1.8393j            1.8410            0.2568\n",
              "MA.1            2.3732           +0.0000j            2.3732            0.0000\n",
              "-----------------------------------------------------------------------------\n",
              "\"\"\""
            ]
          },
          "metadata": {},
          "execution_count": 18
        }
      ]
    },
    {
      "cell_type": "code",
      "metadata": {
        "id": "Spl0bFUK_K_4",
        "colab": {
          "base_uri": "https://localhost:8080/"
        },
        "outputId": "b9e1e053-3bed-4dd9-f706-fae2a33b4c25"
      },
      "source": [
        "print(\"ARIMA(1,1,3):  \\t LL = \", results_ar_1_i_1_ma_3.llf, \"\\t AIC = \", results_ar_1_i_1_ma_3.aic)\n",
        "print(\"ARIMA(5,1,1):  \\t LL = \", results_ar_5_i_1_ma_1.llf, \"\\t AIC = \", results_ar_5_i_1_ma_1.aic)\n",
        "print(\"ARIMA(6,1,3):  \\t LL = \", results_ar_6_i_1_ma_3.llf, \"\\t AIC = \", results_ar_6_i_1_ma_3.aic)"
      ],
      "execution_count": 19,
      "outputs": [
        {
          "output_type": "stream",
          "name": "stdout",
          "text": [
            "ARIMA(1,1,3):  \t LL =  -27590.424032541418 \t AIC =  55192.848065082835\n",
            "ARIMA(5,1,1):  \t LL =  -27586.511888124413 \t AIC =  55189.023776248825\n",
            "ARIMA(6,1,3):  \t LL =  -27583.565320410296 \t AIC =  55189.13064082059\n"
          ]
        }
      ]
    },
    {
      "cell_type": "code",
      "metadata": {
        "id": "84qCurS4_K_7",
        "colab": {
          "base_uri": "https://localhost:8080/"
        },
        "outputId": "962ab0f6-0e8b-45cd-be10-ee61c194809f"
      },
      "source": [
        "print(\"\\nLLR test p-value = \" + str(LLR_test(results_ar_1_i_1_ma_3, results_ar_6_i_1_ma_3, DF = 5)))"
      ],
      "execution_count": 20,
      "outputs": [
        {
          "output_type": "stream",
          "name": "stdout",
          "text": [
            "\n",
            "LLR test p-value = 0.018\n"
          ]
        }
      ]
    },
    {
      "cell_type": "code",
      "metadata": {
        "id": "YMw1J1WG_K_9",
        "colab": {
          "base_uri": "https://localhost:8080/"
        },
        "outputId": "3773bdfa-bb67-4b91-84a3-536ae6cf7730"
      },
      "source": [
        "print(\"\\nLLR test p-value = \" + str(LLR_test(results_ar_5_i_1_ma_1, results_ar_6_i_1_ma_3, DF = 3)))"
      ],
      "execution_count": 21,
      "outputs": [
        {
          "output_type": "stream",
          "name": "stdout",
          "text": [
            "\n",
            "LLR test p-value = 0.117\n"
          ]
        }
      ]
    },
    {
      "cell_type": "code",
      "metadata": {
        "id": "awV04LGC_LAA",
        "colab": {
          "base_uri": "https://localhost:8080/",
          "height": 289
        },
        "outputId": "ba552f8a-b482-4ea1-b174-404d15ab3ae5"
      },
      "source": [
        "df['res_ar_5_i_1_ma_1'] = results_ar_5_i_1_ma_1.resid\n",
        "sgt.plot_acf(df.res_ar_5_i_1_ma_1[1:], zero = False, lags = 40)\n",
        "plt.title(\"ACF Of Residuals for ARIMA(5,1,1)\", size=20)\n",
        "plt.show()"
      ],
      "execution_count": 22,
      "outputs": [
        {
          "output_type": "display_data",
          "data": {
            "image/png": "[encoded data removed]",
            "text/plain": [
              "<Figure size 432x288 with 1 Axes>"
            ]
          },
          "metadata": {}
        }
      ]
    },
    {
      "cell_type": "markdown",
      "metadata": {
        "id": "AC9x2ljK_LAC"
      },
      "source": [
        "## Models with Higher Levels of Integration"
      ]
    },
    {
      "cell_type": "code",
      "metadata": {
        "id": "RtZZGmKJ_LAD"
      },
      "source": [
        "df['delta_prices']=df.market_value.diff(1)"
      ],
      "execution_count": 23,
      "outputs": []
    },
    {
      "cell_type": "code",
      "metadata": {
        "scrolled": true,
        "id": "AdhI2F15_LAF",
        "colab": {
          "base_uri": "https://localhost:8080/",
          "height": 351
        },
        "outputId": "78cfcf15-fc58-4f3d-d4e8-c3a50ae5e93a"
      },
      "source": [
        "model_delta_ar_1_i_1_ma_1 = ARIMA(df.delta_prices[1:], order=(1,0,1))\n",
        "results_delta_ar_1_i_1_ma_1 = model_delta_ar_1_i_1_ma_1.fit()\n",
        "results_delta_ar_1_i_1_ma_1.summary()"
      ],
      "execution_count": 24,
      "outputs": [
        {
          "output_type": "execute_result",
          "data": {
            "text/html": [
              "<table class=\"simpletable\">\n",
              "<caption>ARMA Model Results</caption>\n",
              "<tr>\n",
              "  <th>Dep. Variable:</th>   <td>delta_prices</td>   <th>  No. Observations:  </th>    <td>5020</td>   \n",
              "</tr>\n",
              "<tr>\n",
              "  <th>Model:</th>            <td>ARMA(1, 1)</td>    <th>  Log Likelihood     </th> <td>-27603.666</td>\n",
              "</tr>\n",
              "<tr>\n",
              "  <th>Method:</th>             <td>css-mle</td>     <th>  S.D. of innovations</th>   <td>59.134</td>  \n",
              "</tr>\n",
              "<tr>\n",
              "  <th>Date:</th>          <td>Sat, 19 Feb 2022</td> <th>  AIC                </th>  <td>55215.333</td>\n",
              "</tr>\n",
              "<tr>\n",
              "  <th>Time:</th>              <td>22:11:57</td>     <th>  BIC                </th>  <td>55241.418</td>\n",
              "</tr>\n",
              "<tr>\n",
              "  <th>Sample:</th>           <td>01-10-1994</td>    <th>  HQIC               </th>  <td>55224.473</td>\n",
              "</tr>\n",
              "<tr>\n",
              "  <th></th>                 <td>- 04-05-2013</td>   <th>                     </th>      <td> </td>    \n",
              "</tr>\n",
              "</table>\n",
              "<table class=\"simpletable\">\n",
              "<tr>\n",
              "           <td></td>             <th>coef</th>     <th>std err</th>      <th>z</th>      <th>P>|z|</th>  <th>[0.025</th>    <th>0.975]</th>  \n",
              "</tr>\n",
              "<tr>\n",
              "  <th>const</th>              <td>    0.5654</td> <td>    0.682</td> <td>    0.829</td> <td> 0.407</td> <td>   -0.772</td> <td>    1.903</td>\n",
              "</tr>\n",
              "<tr>\n",
              "  <th>ar.L1.delta_prices</th> <td>    0.7475</td> <td>    0.070</td> <td>   10.652</td> <td> 0.000</td> <td>    0.610</td> <td>    0.885</td>\n",
              "</tr>\n",
              "<tr>\n",
              "  <th>ma.L1.delta_prices</th> <td>   -0.7936</td> <td>    0.064</td> <td>  -12.378</td> <td> 0.000</td> <td>   -0.919</td> <td>   -0.668</td>\n",
              "</tr>\n",
              "</table>\n",
              "<table class=\"simpletable\">\n",
              "<caption>Roots</caption>\n",
              "<tr>\n",
              "    <td></td>   <th>            Real</th>  <th>         Imaginary</th> <th>         Modulus</th>  <th>        Frequency</th>\n",
              "</tr>\n",
              "<tr>\n",
              "  <th>AR.1</th> <td>           1.3378</td> <td>          +0.0000j</td> <td>           1.3378</td> <td>           0.0000</td>\n",
              "</tr>\n",
              "<tr>\n",
              "  <th>MA.1</th> <td>           1.2601</td> <td>          +0.0000j</td> <td>           1.2601</td> <td>           0.0000</td>\n",
              "</tr>\n",
              "</table>"
            ],
            "text/plain": [
              "<class 'statsmodels.iolib.summary.Summary'>\n",
              "\"\"\"\n",
              "                              ARMA Model Results                              \n",
              "==============================================================================\n",
              "Dep. Variable:           delta_prices   No. Observations:                 5020\n",
              "Model:                     ARMA(1, 1)   Log Likelihood              -27603.666\n",
              "Method:                       css-mle   S.D. of innovations             59.134\n",
              "Date:                Sat, 19 Feb 2022   AIC                          55215.333\n",
              "Time:                        22:11:57   BIC                          55241.418\n",
              "Sample:                    01-10-1994   HQIC                         55224.473\n",
              "                         - 04-05-2013                                         \n",
              "======================================================================================\n",
              "                         coef    std err          z      P>|z|      [0.025      0.975]\n",
              "--------------------------------------------------------------------------------------\n",
              "const                  0.5654      0.682      0.829      0.407      -0.772       1.903\n",
              "ar.L1.delta_prices     0.7475      0.070     10.652      0.000       0.610       0.885\n",
              "ma.L1.delta_prices    -0.7936      0.064    -12.378      0.000      -0.919      -0.668\n",
              "                                    Roots                                    \n",
              "=============================================================================\n",
              "                  Real          Imaginary           Modulus         Frequency\n",
              "-----------------------------------------------------------------------------\n",
              "AR.1            1.3378           +0.0000j            1.3378            0.0000\n",
              "MA.1            1.2601           +0.0000j            1.2601            0.0000\n",
              "-----------------------------------------------------------------------------\n",
              "\"\"\""
            ]
          },
          "metadata": {},
          "execution_count": 24
        }
      ]
    },
    {
      "cell_type": "code",
      "metadata": {
        "id": "c79d0MjQ_LAJ",
        "colab": {
          "base_uri": "https://localhost:8080/"
        },
        "outputId": "9a96c568-b4ef-4349-f15d-e6250f83c01f"
      },
      "source": [
        "sts.adfuller(df.delta_prices[1:])"
      ],
      "execution_count": 25,
      "outputs": [
        {
          "output_type": "execute_result",
          "data": {
            "text/plain": [
              "(-32.244093495707475,\n",
              " 0.0,\n",
              " 5,\n",
              " 5014,\n",
              " {'1%': -3.4316548765428174,\n",
              "  '10%': -2.5670769326348926,\n",
              "  '5%': -2.8621166146845334},\n",
              " 54845.96104221891)"
            ]
          },
          "metadata": {},
          "execution_count": 25
        }
      ]
    },
    {
      "cell_type": "code",
      "metadata": {
        "id": "99OqRiT5_LAL",
        "colab": {
          "base_uri": "https://localhost:8080/",
          "height": 351
        },
        "outputId": "f941ffe3-c954-4f12-9fe1-8fae0e21a1d5"
      },
      "source": [
        "model_ar_1_i_2_ma_1 = ARIMA(df.market_value, order=(1,2,1))\n",
        "results_ar_1_i_2_ma_1 = model_ar_1_i_2_ma_1.fit(start_ar_lags=10)\n",
        "results_ar_1_i_2_ma_1.summary()"
      ],
      "execution_count": 26,
      "outputs": [
        {
          "output_type": "execute_result",
          "data": {
            "text/html": [
              "<table class=\"simpletable\">\n",
              "<caption>ARIMA Model Results</caption>\n",
              "<tr>\n",
              "  <th>Dep. Variable:</th>  <td>D2.market_value</td> <th>  No. Observations:  </th>    <td>5019</td>   \n",
              "</tr>\n",
              "<tr>\n",
              "  <th>Model:</th>          <td>ARIMA(1, 2, 1)</td>  <th>  Log Likelihood     </th> <td>-27614.159</td>\n",
              "</tr>\n",
              "<tr>\n",
              "  <th>Method:</th>             <td>css-mle</td>     <th>  S.D. of innovations</th>   <td>59.273</td>  \n",
              "</tr>\n",
              "<tr>\n",
              "  <th>Date:</th>          <td>Sat, 19 Feb 2022</td> <th>  AIC                </th>  <td>55236.318</td>\n",
              "</tr>\n",
              "<tr>\n",
              "  <th>Time:</th>              <td>22:12:01</td>     <th>  BIC                </th>  <td>55262.402</td>\n",
              "</tr>\n",
              "<tr>\n",
              "  <th>Sample:</th>           <td>01-11-1994</td>    <th>  HQIC               </th>  <td>55245.458</td>\n",
              "</tr>\n",
              "<tr>\n",
              "  <th></th>                 <td>- 04-05-2013</td>   <th>                     </th>      <td> </td>    \n",
              "</tr>\n",
              "</table>\n",
              "<table class=\"simpletable\">\n",
              "<tr>\n",
              "            <td></td>               <th>coef</th>     <th>std err</th>      <th>z</th>      <th>P>|z|</th>  <th>[0.025</th>    <th>0.975]</th>  \n",
              "</tr>\n",
              "<tr>\n",
              "  <th>const</th>                 <td>   -0.0001</td> <td>    0.001</td> <td>   -0.201</td> <td> 0.841</td> <td>   -0.001</td> <td>    0.001</td>\n",
              "</tr>\n",
              "<tr>\n",
              "  <th>ar.L1.D2.market_value</th> <td>   -0.0178</td> <td>    0.014</td> <td>   -1.262</td> <td> 0.207</td> <td>   -0.045</td> <td>    0.010</td>\n",
              "</tr>\n",
              "<tr>\n",
              "  <th>ma.L1.D2.market_value</th> <td>   -1.0000</td> <td>    0.001</td> <td>-1714.052</td> <td> 0.000</td> <td>   -1.001</td> <td>   -0.999</td>\n",
              "</tr>\n",
              "</table>\n",
              "<table class=\"simpletable\">\n",
              "<caption>Roots</caption>\n",
              "<tr>\n",
              "    <td></td>   <th>            Real</th>  <th>         Imaginary</th> <th>         Modulus</th>  <th>        Frequency</th>\n",
              "</tr>\n",
              "<tr>\n",
              "  <th>AR.1</th> <td>         -56.1332</td> <td>          +0.0000j</td> <td>          56.1332</td> <td>           0.5000</td>\n",
              "</tr>\n",
              "<tr>\n",
              "  <th>MA.1</th> <td>           1.0000</td> <td>          +0.0000j</td> <td>           1.0000</td> <td>           0.0000</td>\n",
              "</tr>\n",
              "</table>"
            ],
            "text/plain": [
              "<class 'statsmodels.iolib.summary.Summary'>\n",
              "\"\"\"\n",
              "                             ARIMA Model Results                              \n",
              "==============================================================================\n",
              "Dep. Variable:        D2.market_value   No. Observations:                 5019\n",
              "Model:                 ARIMA(1, 2, 1)   Log Likelihood              -27614.159\n",
              "Method:                       css-mle   S.D. of innovations             59.273\n",
              "Date:                Sat, 19 Feb 2022   AIC                          55236.318\n",
              "Time:                        22:12:01   BIC                          55262.402\n",
              "Sample:                    01-11-1994   HQIC                         55245.458\n",
              "                         - 04-05-2013                                         \n",
              "=========================================================================================\n",
              "                            coef    std err          z      P>|z|      [0.025      0.975]\n",
              "-----------------------------------------------------------------------------------------\n",
              "const                    -0.0001      0.001     -0.201      0.841      -0.001       0.001\n",
              "ar.L1.D2.market_value    -0.0178      0.014     -1.262      0.207      -0.045       0.010\n",
              "ma.L1.D2.market_value    -1.0000      0.001  -1714.052      0.000      -1.001      -0.999\n",
              "                                    Roots                                    \n",
              "=============================================================================\n",
              "                  Real          Imaginary           Modulus         Frequency\n",
              "-----------------------------------------------------------------------------\n",
              "AR.1          -56.1332           +0.0000j           56.1332            0.5000\n",
              "MA.1            1.0000           +0.0000j            1.0000            0.0000\n",
              "-----------------------------------------------------------------------------\n",
              "\"\"\""
            ]
          },
          "metadata": {},
          "execution_count": 26
        }
      ]
    },
    {
      "cell_type": "code",
      "metadata": {
        "id": "tJmL6W4O_LAP",
        "colab": {
          "base_uri": "https://localhost:8080/",
          "height": 289
        },
        "outputId": "911ee0fb-b117-44cb-f51e-de85ee3b9fc1"
      },
      "source": [
        "df['res_ar_1_i_2_ma_1'] = results_ar_1_i_2_ma_1.resid.iloc[:]\n",
        "sgt.plot_acf(df.res_ar_1_i_2_ma_1[2:], zero = False, lags = 40)\n",
        "plt.title(\"ACF Of Residuals for ARIMA(1,2,1)\",size=20)\n",
        "plt.show()"
      ],
      "execution_count": 27,
      "outputs": [
        {
          "output_type": "display_data",
          "data": {
            "image/png": "[encoded data removed]",
            "text/plain": [
              "<Figure size 432x288 with 1 Axes>"
            ]
          },
          "metadata": {}
        }
      ]
    },
    {
      "cell_type": "markdown",
      "metadata": {
        "id": "PGfkUqN0_LAT"
      },
      "source": [
        "## ARIMAX "
      ]
    },
    {
      "cell_type": "code",
      "metadata": {
        "scrolled": true,
        "id": "-9MpT-qQ_LAT",
        "colab": {
          "base_uri": "https://localhost:8080/",
          "height": 372
        },
        "outputId": "0390ed2e-fa3f-425f-dbf9-50b96abe0f66"
      },
      "source": [
        "model_ar_1_i_1_ma_1_Xspx = ARIMA(df.market_value, exog = df.spx, order=(1,1,1))\n",
        "results_ar_1_i_1_ma_1_Xspx = model_ar_1_i_1_ma_1_Xspx.fit()\n",
        "results_ar_1_i_1_ma_1_Xspx.summary()"
      ],
      "execution_count": 28,
      "outputs": [
        {
          "output_type": "execute_result",
          "data": {
            "text/html": [
              "<table class=\"simpletable\">\n",
              "<caption>ARIMA Model Results</caption>\n",
              "<tr>\n",
              "  <th>Dep. Variable:</th>  <td>D.market_value</td>  <th>  No. Observations:  </th>    <td>5020</td>   \n",
              "</tr>\n",
              "<tr>\n",
              "  <th>Model:</th>          <td>ARIMA(1, 1, 1)</td>  <th>  Log Likelihood     </th> <td>-27603.556</td>\n",
              "</tr>\n",
              "<tr>\n",
              "  <th>Method:</th>             <td>css-mle</td>     <th>  S.D. of innovations</th>   <td>59.132</td>  \n",
              "</tr>\n",
              "<tr>\n",
              "  <th>Date:</th>          <td>Sat, 19 Feb 2022</td> <th>  AIC                </th>  <td>55217.112</td>\n",
              "</tr>\n",
              "<tr>\n",
              "  <th>Time:</th>              <td>22:12:07</td>     <th>  BIC                </th>  <td>55249.718</td>\n",
              "</tr>\n",
              "<tr>\n",
              "  <th>Sample:</th>           <td>01-10-1994</td>    <th>  HQIC               </th>  <td>55228.538</td>\n",
              "</tr>\n",
              "<tr>\n",
              "  <th></th>                 <td>- 04-05-2013</td>   <th>                     </th>      <td> </td>    \n",
              "</tr>\n",
              "</table>\n",
              "<table class=\"simpletable\">\n",
              "<tr>\n",
              "            <td></td>              <th>coef</th>     <th>std err</th>      <th>z</th>      <th>P>|z|</th>  <th>[0.025</th>    <th>0.975]</th>  \n",
              "</tr>\n",
              "<tr>\n",
              "  <th>const</th>                <td>   -0.5882</td> <td>    2.655</td> <td>   -0.222</td> <td> 0.825</td> <td>   -5.793</td> <td>    4.616</td>\n",
              "</tr>\n",
              "<tr>\n",
              "  <th>spx</th>                  <td>    0.0011</td> <td>    0.002</td> <td>    0.451</td> <td> 0.652</td> <td>   -0.004</td> <td>    0.006</td>\n",
              "</tr>\n",
              "<tr>\n",
              "  <th>ar.L1.D.market_value</th> <td>    0.7456</td> <td>    0.070</td> <td>   10.578</td> <td> 0.000</td> <td>    0.607</td> <td>    0.884</td>\n",
              "</tr>\n",
              "<tr>\n",
              "  <th>ma.L1.D.market_value</th> <td>   -0.7917</td> <td>    0.065</td> <td>  -12.273</td> <td> 0.000</td> <td>   -0.918</td> <td>   -0.665</td>\n",
              "</tr>\n",
              "</table>\n",
              "<table class=\"simpletable\">\n",
              "<caption>Roots</caption>\n",
              "<tr>\n",
              "    <td></td>   <th>            Real</th>  <th>         Imaginary</th> <th>         Modulus</th>  <th>        Frequency</th>\n",
              "</tr>\n",
              "<tr>\n",
              "  <th>AR.1</th> <td>           1.3412</td> <td>          +0.0000j</td> <td>           1.3412</td> <td>           0.0000</td>\n",
              "</tr>\n",
              "<tr>\n",
              "  <th>MA.1</th> <td>           1.2632</td> <td>          +0.0000j</td> <td>           1.2632</td> <td>           0.0000</td>\n",
              "</tr>\n",
              "</table>"
            ],
            "text/plain": [
              "<class 'statsmodels.iolib.summary.Summary'>\n",
              "\"\"\"\n",
              "                             ARIMA Model Results                              \n",
              "==============================================================================\n",
              "Dep. Variable:         D.market_value   No. Observations:                 5020\n",
              "Model:                 ARIMA(1, 1, 1)   Log Likelihood              -27603.556\n",
              "Method:                       css-mle   S.D. of innovations             59.132\n",
              "Date:                Sat, 19 Feb 2022   AIC                          55217.112\n",
              "Time:                        22:12:07   BIC                          55249.718\n",
              "Sample:                    01-10-1994   HQIC                         55228.538\n",
              "                         - 04-05-2013                                         \n",
              "========================================================================================\n",
              "                           coef    std err          z      P>|z|      [0.025      0.975]\n",
              "----------------------------------------------------------------------------------------\n",
              "const                   -0.5882      2.655     -0.222      0.825      -5.793       4.616\n",
              "spx                      0.0011      0.002      0.451      0.652      -0.004       0.006\n",
              "ar.L1.D.market_value     0.7456      0.070     10.578      0.000       0.607       0.884\n",
              "ma.L1.D.market_value    -0.7917      0.065    -12.273      0.000      -0.918      -0.665\n",
              "                                    Roots                                    \n",
              "=============================================================================\n",
              "                  Real          Imaginary           Modulus         Frequency\n",
              "-----------------------------------------------------------------------------\n",
              "AR.1            1.3412           +0.0000j            1.3412            0.0000\n",
              "MA.1            1.2632           +0.0000j            1.2632            0.0000\n",
              "-----------------------------------------------------------------------------\n",
              "\"\"\""
            ]
          },
          "metadata": {},
          "execution_count": 28
        }
      ]
    },
    {
      "cell_type": "markdown",
      "metadata": {
        "id": "7OZy0Q40_LAV"
      },
      "source": [
        "## SARIMAX"
      ]
    },
    {
      "cell_type": "code",
      "metadata": {
        "id": "vqbUeUFg_LAW"
      },
      "source": [
        "from statsmodels.tsa.statespace.sarimax import SARIMAX"
      ],
      "execution_count": 29,
      "outputs": []
    },
    {
      "cell_type": "code",
      "metadata": {
        "id": "k1Lk3rKg_LAZ",
        "colab": {
          "base_uri": "https://localhost:8080/",
          "height": 507
        },
        "outputId": "7befe428-2d9c-44f8-ba2c-520e89134e95"
      },
      "source": [
        "model_sarimax = SARIMAX(df.market_value, exog = df.spx, order=(1,0,1), seasonal_order = (2,0,1,5))\n",
        "results_sarimax = model_sarimax.fit()\n",
        "results_sarimax.summary()\n",
        "# vemos que todos los p valor son significativos que quiere decir que podría ser utilizado. nos da el retraso de 5 periodos, el de 10, y el error de 5 periodos. "
      ],
      "execution_count": 30,
      "outputs": [
        {
          "output_type": "execute_result",
          "data": {
            "text/html": [
              "<table class=\"simpletable\">\n",
              "<caption>Statespace Model Results</caption>\n",
              "<tr>\n",
              "  <th>Dep. Variable:</th>           <td>market_value</td>          <th>  No. Observations:  </th>    <td>5021</td>   \n",
              "</tr>\n",
              "<tr>\n",
              "  <th>Model:</th>           <td>SARIMAX(1, 0, 1)x(2, 0, 1, 5)</td> <th>  Log Likelihood     </th> <td>-26712.745</td>\n",
              "</tr>\n",
              "<tr>\n",
              "  <th>Date:</th>                  <td>Sat, 19 Feb 2022</td>        <th>  AIC                </th>  <td>53439.491</td>\n",
              "</tr>\n",
              "<tr>\n",
              "  <th>Time:</th>                      <td>22:12:43</td>            <th>  BIC                </th>  <td>53485.140</td>\n",
              "</tr>\n",
              "<tr>\n",
              "  <th>Sample:</th>                   <td>01-07-1994</td>           <th>  HQIC               </th>  <td>53455.487</td>\n",
              "</tr>\n",
              "<tr>\n",
              "  <th></th>                         <td>- 04-05-2013</td>          <th>                     </th>      <td> </td>    \n",
              "</tr>\n",
              "<tr>\n",
              "  <th>Covariance Type:</th>              <td>opg</td>              <th>                     </th>      <td> </td>    \n",
              "</tr>\n",
              "</table>\n",
              "<table class=\"simpletable\">\n",
              "<tr>\n",
              "      <td></td>        <th>coef</th>     <th>std err</th>      <th>z</th>      <th>P>|z|</th>  <th>[0.025</th>    <th>0.975]</th>  \n",
              "</tr>\n",
              "<tr>\n",
              "  <th>spx</th>      <td>    2.7048</td> <td>    0.035</td> <td>   76.644</td> <td> 0.000</td> <td>    2.636</td> <td>    2.774</td>\n",
              "</tr>\n",
              "<tr>\n",
              "  <th>ar.L1</th>    <td>    0.9998</td> <td>    0.000</td> <td> 2012.046</td> <td> 0.000</td> <td>    0.999</td> <td>    1.001</td>\n",
              "</tr>\n",
              "<tr>\n",
              "  <th>ma.L1</th>    <td>   -0.3106</td> <td>    0.010</td> <td>  -32.675</td> <td> 0.000</td> <td>   -0.329</td> <td>   -0.292</td>\n",
              "</tr>\n",
              "<tr>\n",
              "  <th>ar.S.L5</th>  <td>    0.9650</td> <td>    0.011</td> <td>   87.779</td> <td> 0.000</td> <td>    0.943</td> <td>    0.987</td>\n",
              "</tr>\n",
              "<tr>\n",
              "  <th>ar.S.L10</th> <td>    0.0346</td> <td>    0.010</td> <td>    3.358</td> <td> 0.001</td> <td>    0.014</td> <td>    0.055</td>\n",
              "</tr>\n",
              "<tr>\n",
              "  <th>ma.S.L5</th>  <td>   -0.9986</td> <td>    0.005</td> <td> -182.992</td> <td> 0.000</td> <td>   -1.009</td> <td>   -0.988</td>\n",
              "</tr>\n",
              "<tr>\n",
              "  <th>sigma2</th>   <td> 2439.4329</td> <td>   28.392</td> <td>   85.920</td> <td> 0.000</td> <td> 2383.786</td> <td> 2495.080</td>\n",
              "</tr>\n",
              "</table>\n",
              "<table class=\"simpletable\">\n",
              "<tr>\n",
              "  <th>Ljung-Box (Q):</th>          <td>95.43</td> <th>  Jarque-Bera (JB):  </th> <td>4209.32</td>\n",
              "</tr>\n",
              "<tr>\n",
              "  <th>Prob(Q):</th>                <td>0.00</td>  <th>  Prob(JB):          </th>  <td>0.00</td>  \n",
              "</tr>\n",
              "<tr>\n",
              "  <th>Heteroskedasticity (H):</th> <td>1.23</td>  <th>  Skew:              </th>  <td>-0.52</td> \n",
              "</tr>\n",
              "<tr>\n",
              "  <th>Prob(H) (two-sided):</th>    <td>0.00</td>  <th>  Kurtosis:          </th>  <td>7.36</td>  \n",
              "</tr>\n",
              "</table><br/><br/>Warnings:<br/>[1] Covariance matrix calculated using the outer product of gradients (complex-step)."
            ],
            "text/plain": [
              "<class 'statsmodels.iolib.summary.Summary'>\n",
              "\"\"\"\n",
              "                                 Statespace Model Results                                \n",
              "=========================================================================================\n",
              "Dep. Variable:                      market_value   No. Observations:                 5021\n",
              "Model:             SARIMAX(1, 0, 1)x(2, 0, 1, 5)   Log Likelihood              -26712.745\n",
              "Date:                           Sat, 19 Feb 2022   AIC                          53439.491\n",
              "Time:                                   22:12:43   BIC                          53485.140\n",
              "Sample:                               01-07-1994   HQIC                         53455.487\n",
              "                                    - 04-05-2013                                         \n",
              "Covariance Type:                             opg                                         \n",
              "==============================================================================\n",
              "                 coef    std err          z      P>|z|      [0.025      0.975]\n",
              "------------------------------------------------------------------------------\n",
              "spx            2.7048      0.035     76.644      0.000       2.636       2.774\n",
              "ar.L1          0.9998      0.000   2012.046      0.000       0.999       1.001\n",
              "ma.L1         -0.3106      0.010    -32.675      0.000      -0.329      -0.292\n",
              "ar.S.L5        0.9650      0.011     87.779      0.000       0.943       0.987\n",
              "ar.S.L10       0.0346      0.010      3.358      0.001       0.014       0.055\n",
              "ma.S.L5       -0.9986      0.005   -182.992      0.000      -1.009      -0.988\n",
              "sigma2      2439.4329     28.392     85.920      0.000    2383.786    2495.080\n",
              "===================================================================================\n",
              "Ljung-Box (Q):                       95.43   Jarque-Bera (JB):              4209.32\n",
              "Prob(Q):                              0.00   Prob(JB):                         0.00\n",
              "Heteroskedasticity (H):               1.23   Skew:                            -0.52\n",
              "Prob(H) (two-sided):                  0.00   Kurtosis:                         7.36\n",
              "===================================================================================\n",
              "\n",
              "Warnings:\n",
              "[1] Covariance matrix calculated using the outer product of gradients (complex-step).\n",
              "\"\"\""
            ]
          },
          "metadata": {},
          "execution_count": 30
        }
      ]
    },
    {
      "cell_type": "code",
      "source": [
        ""
      ],
      "metadata": {
        "id": "xF1Wr3X7CuOr"
      },
      "execution_count": null,
      "outputs": []
    }
  ]
}